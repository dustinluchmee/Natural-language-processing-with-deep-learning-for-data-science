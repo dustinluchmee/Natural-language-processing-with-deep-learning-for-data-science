{
 "cells": [
  {
   "cell_type": "markdown",
   "metadata": {
    "id": "automatic-monday"
   },
   "source": [
    "## Module submission header\n",
    "### Submission preparation instructions \n",
    "_Completion of this header is mandatory, subject to a 2-point deduction to the assignment._ Only add plain text in the designated areas, i.e., replacing the relevant 'NA's. You must fill out all group member Names and Drexel email addresses in the below markdown list, under header __Module submission group__. It is required to fill out descriptive notes pertaining to any tutoring support received in the completion of this submission under the __Additional submission comments__ section at the bottom of the header. If no tutoring support was received, leave NA in place. You may as well list other optional comments pertaining to the submission at bottom. _Any distruption of this header's formatting will make your group liable to the 2-point deduction._\n",
    "\n",
    "### Module submission group\n",
    "- Group member 1\n",
    "    - Name: NA\n",
    "    - Email: NA\n",
    "- Group member 2\n",
    "    - Name: NA\n",
    "    - Email: NA\n",
    "- Group member 3\n",
    "    - Name: NA\n",
    "    - Email: NA\n",
    "- Group member 4\n",
    "    - Name: NA\n",
    "    - Email: NA\n",
    "\n",
    "### Additional submission comments\n",
    "- Tutoring support received: NA\n",
    "- Other (other): https://medium.com/analytics-vidhya/tokenization-building-a-tokenizer-and-a-sentencizer-c19a00393c19"
   ]
  },
  {
   "cell_type": "markdown",
   "metadata": {
    "id": "vulnerable-producer"
   },
   "source": [
    "# DSCI 691: Natural language processing with deep learning <br> Assignment 4: Conversational disentanglement"
   ]
  },
  {
   "cell_type": "markdown",
   "metadata": {
    "id": "engaging-hostel"
   },
   "source": [
    "## Overview \n",
    "\n",
    "The purpose of this assigment (69 pts) is to gain firsthand experience constructing a neural network to approach an exciting NLP task: Conversational Disentanglement. Through this assignment, you will apply the techniques introduced in __Chapter 4__ and __Chapter 5__ by constructing a feed-forward neural network in the PyTorch framework.\n",
    "\n",
    "Recall from __Chapter 2__, the task of conversational disentanglement is one where the goal is to decide which messages in a communication channel reference other messages. Why might such a task be important? Where does something like this crop up? \n",
    "- Traditional chat rooms and boards; if there's no comment nesting structure, it can be ambiguous as to who a message is directed to\n",
    "- Facebook comment sections; with only 1 or 2 levels fo depth, all further comments are collapsed into one level and so the full conversational structure has to be discovered / predicted\n",
    "- A text group chat with more than 3 people... Was that text directed to you? To everyone? Perhaps there is some ambiguity there as well\n",
    "- Beyond expliclty _written_ content, a small party in which several conversations are occurring at once might require disentanglement \n",
    "- Voice technologies frequently have a wake phrase or word; determining whether that has been said could be a (minor) form of conversational disentanglement!\n",
    "\n",
    "As language processing technologies evolve and as they become more seamlessly integrated in our lives, their ability to disentangle conversations may become increasingly important. \n",
    "This is task is very difficult (see the [original paper](https://www.aclweb.org/anthology/P19-1374.pdf) and observe their performance).\n",
    "\n",
    "The original paper explores a broad cross-section of structured features, linguistic and other, to construct several models. Here, our task will be to see what we can achieve with simplistic, feed-forward dense neural networks and just the information we can extract from the raw text.\n",
    "\n",
    "**Note**: In `05-utilities.py`, you'll find our help function `to_gpu()`. If you use Google Collab, you can acess a **limited** amount of time on a GPU for free. **Please know that this is limited and Google will cut you off if you over-use it!** That said, this is a great opportunity to gain some practice with better hardware and training neural networks on the GPU. If you do elect to go this route, please **be careful!** You need to be aware of what device your tensors are on and if you need to do CPU based computations (e.g., scoring predictions), you need to make sure you move things to the CPU through a `.cpu()` call prior to that type of calculation.  __Chapter 5__ should exhibit this behavior, so re-reference that material if this is the path you elect to take.\n",
    "\n",
    "In this Assignment, we'll be working with the *irc_dataset* discussed in __Chapter 2__."
   ]
  },
  {
   "cell_type": "code",
   "execution_count": 1,
   "metadata": {
    "id": "governing-porcelain"
   },
   "outputs": [
    {
     "name": "stdout",
     "output_type": "stream",
     "text": [
      "Requirement already satisfied: torch in /opt/anaconda3/lib/python3.8/site-packages (1.8.1)\n",
      "Requirement already satisfied: numpy in /opt/anaconda3/lib/python3.8/site-packages (from torch) (1.19.2)\n",
      "Requirement already satisfied: typing-extensions in /opt/anaconda3/lib/python3.8/site-packages (from torch) (3.7.4.3)\n",
      "Note: you may need to restart the kernel to use updated packages.\n"
     ]
    }
   ],
   "source": [
    "pip install torch"
   ]
  },
  {
   "cell_type": "code",
   "execution_count": 2,
   "metadata": {
    "id": "outside-judgment"
   },
   "outputs": [],
   "source": [
    "import json\n",
    "import time \n",
    "\n",
    "from collections import Counter\n",
    "from sklearn.metrics import classification_report\n",
    "\n",
    "import torch\n",
    "import numpy as np\n",
    "import matplotlib.pyplot as plt\n",
    "from tqdm import tqdm"
   ]
  },
  {
   "cell_type": "markdown",
   "metadata": {
    "id": "designing-account"
   },
   "source": [
    "## Data and Utilities \n",
    "\n",
    "Before diving into implementation, it would be good to refresh ourselves with the _irc_dataset_:"
   ]
  },
  {
   "cell_type": "code",
   "execution_count": 3,
   "metadata": {
    "id": "heated-union"
   },
   "outputs": [
    {
     "name": "stdout",
     "output_type": "stream",
     "text": [
      "Requirement already satisfied: datasets in /opt/anaconda3/lib/python3.8/site-packages (1.6.2)\n",
      "Requirement already satisfied: tqdm<4.50.0,>=4.27 in /opt/anaconda3/lib/python3.8/site-packages (from datasets) (4.49.0)\n",
      "Requirement already satisfied: numpy>=1.17 in /opt/anaconda3/lib/python3.8/site-packages (from datasets) (1.19.2)\n",
      "Requirement already satisfied: multiprocess in /opt/anaconda3/lib/python3.8/site-packages (from datasets) (0.70.11.1)\n",
      "Requirement already satisfied: fsspec in /opt/anaconda3/lib/python3.8/site-packages (from datasets) (0.8.3)\n",
      "Requirement already satisfied: huggingface-hub<0.1.0 in /opt/anaconda3/lib/python3.8/site-packages (from datasets) (0.0.8)\n",
      "Requirement already satisfied: requests>=2.19.0 in /opt/anaconda3/lib/python3.8/site-packages (from datasets) (2.24.0)\n",
      "Requirement already satisfied: packaging in /opt/anaconda3/lib/python3.8/site-packages (from datasets) (20.4)\n",
      "Requirement already satisfied: pyarrow>=1.0.0<4.0.0 in /opt/anaconda3/lib/python3.8/site-packages (from datasets) (4.0.0)\n",
      "Requirement already satisfied: pandas in /opt/anaconda3/lib/python3.8/site-packages (from datasets) (1.1.3)\n",
      "Requirement already satisfied: xxhash in /opt/anaconda3/lib/python3.8/site-packages (from datasets) (2.0.2)\n",
      "Requirement already satisfied: dill in /opt/anaconda3/lib/python3.8/site-packages (from datasets) (0.3.3)\n",
      "Requirement already satisfied: filelock in /opt/anaconda3/lib/python3.8/site-packages (from huggingface-hub<0.1.0->datasets) (3.0.12)\n",
      "Requirement already satisfied: certifi>=2017.4.17 in /opt/anaconda3/lib/python3.8/site-packages (from requests>=2.19.0->datasets) (2020.6.20)\n",
      "Requirement already satisfied: urllib3!=1.25.0,!=1.25.1,<1.26,>=1.21.1 in /opt/anaconda3/lib/python3.8/site-packages (from requests>=2.19.0->datasets) (1.25.11)\n",
      "Requirement already satisfied: idna<3,>=2.5 in /opt/anaconda3/lib/python3.8/site-packages (from requests>=2.19.0->datasets) (2.10)\n",
      "Requirement already satisfied: chardet<4,>=3.0.2 in /opt/anaconda3/lib/python3.8/site-packages (from requests>=2.19.0->datasets) (3.0.4)\n",
      "Requirement already satisfied: six in /opt/anaconda3/lib/python3.8/site-packages (from packaging->datasets) (1.15.0)\n",
      "Requirement already satisfied: pyparsing>=2.0.2 in /opt/anaconda3/lib/python3.8/site-packages (from packaging->datasets) (2.4.7)\n",
      "Requirement already satisfied: pytz>=2017.2 in /opt/anaconda3/lib/python3.8/site-packages (from pandas->datasets) (2020.1)\n",
      "Requirement already satisfied: python-dateutil>=2.7.3 in /opt/anaconda3/lib/python3.8/site-packages (from pandas->datasets) (2.8.1)\n",
      "Note: you may need to restart the kernel to use updated packages.\n"
     ]
    }
   ],
   "source": [
    "pip install datasets"
   ]
  },
  {
   "cell_type": "code",
   "execution_count": 4,
   "metadata": {
    "id": "innocent-lunch"
   },
   "outputs": [
    {
     "name": "stderr",
     "output_type": "stream",
     "text": [
      "No config specified, defaulting to: irc_disentangle/ubuntu\n",
      "Reusing dataset irc_disentangle (/Users/dustin.ellis/.cache/huggingface/datasets/irc_disentangle/ubuntu/1.0.0/d58a1b6fbbeeaf735c24246805fbdc44773bd18b765a0711ef19fe7d8e5b2b8c)\n"
     ]
    },
    {
     "data": {
      "text/plain": [
       "DatasetDict({\n",
       "    train: Dataset({\n",
       "        features: ['id', 'raw', 'ascii', 'tokenized', 'date', 'connections'],\n",
       "        num_rows: 220616\n",
       "    })\n",
       "    test: Dataset({\n",
       "        features: ['id', 'raw', 'ascii', 'tokenized', 'date', 'connections'],\n",
       "        num_rows: 15010\n",
       "    })\n",
       "    validation: Dataset({\n",
       "        features: ['id', 'raw', 'ascii', 'tokenized', 'date', 'connections'],\n",
       "        num_rows: 12510\n",
       "    })\n",
       "})"
      ]
     },
     "execution_count": 4,
     "metadata": {},
     "output_type": "execute_result"
    }
   ],
   "source": [
    "import datasets\n",
    "\n",
    "ds = datasets.load_dataset('irc_disentangle')\n",
    "ds"
   ]
  },
  {
   "cell_type": "code",
   "execution_count": 5,
   "metadata": {
    "id": "floating-vision"
   },
   "outputs": [
    {
     "data": {
      "text/plain": [
       "({'ascii': \"[03:57] <Xophe> (also, I'm guessing that this isn't a good place to report minor but annoying bugs... what is?)\",\n",
       "  'connections': [1048, 1054, 1055, 1072, 1073],\n",
       "  'date': '2004-12-25',\n",
       "  'id': 1050,\n",
       "  'raw': \"[03:57] <Xophe> (also, I'm guessing that this isn't a good place to report minor but annoying bugs... what is?)\",\n",
       "  'tokenized': \"<s> ( also , i 'm guessing that this is n't a good place to report minor but annoying bugs ... what is ?) </s>\"},\n",
       " {'ascii': '[03:59] <superted> Xophe: allthough the bug might be minor, it can bring down the user experience',\n",
       "  'connections': [1050, 1059, 1060],\n",
       "  'date': '2004-12-25',\n",
       "  'id': 1055,\n",
       "  'raw': '[03:59] <superted> Xophe: allthough the bug might be minor, it can bring down the user experience',\n",
       "  'tokenized': '<s> <user> : allthough the bug might be minor , it can bring down the user experience </s>'})"
      ]
     },
     "execution_count": 5,
     "metadata": {},
     "output_type": "execute_result"
    }
   ],
   "source": [
    "ds['train'][1050], ds['train'][1055]"
   ]
  },
  {
   "cell_type": "markdown",
   "metadata": {
    "id": "aging-integration"
   },
   "source": [
    "The essential component we must predict is within the `'connections'` field, where we are required to identify which other messages (by index) are referred to by a given post.\n",
    "However, as we saw in lecture, this task is ripe with metadata that we can attempt to exploit to simplify this task. \n",
    "Specifically:\n",
    "- Timestamps (and dates)\n",
    "- Usernames\n",
    "\n",
    "Together, these two pieces of information allowed us to trim down the combintorial space of all possible pairs of posts.\n",
    "This was an essential pre-processing heuristic that has allowed us to transform our task down to one of binary classification between pairs of posts.\n",
    "\n",
    "The sample we'll use is slightly different than what was discussed in __Chapter2__. \n",
    "Instead of using a time horizon, the sample constructed\n",
    "always considers the previous 20 posts \n",
    "and determines which (if any) are positive connections.\n",
    "\n",
    "It is also important to emphasize this reduction will inevitably create an upper limit on any model's final performance, but as we saw in the lecture notes, this should be okay (the upper recall limit on this sample is around 93%).\n",
    "This dataset has a class imbalance of around 50 negative examples for every positive example, so the task is still very imbalanced and very difficult.\n",
    "\n",
    "Our assignment will begin with re-loading this data in JSON form and preparing a model that can take two post pairs and output a probabilistic prediction $p \\in [0, 1]$ as to whether or not those two posts are connected (e.g., one is replying to the other)."
   ]
  },
  {
   "cell_type": "code",
   "execution_count": 6,
   "metadata": {
    "id": "informational-clinton"
   },
   "outputs": [],
   "source": [
    "thread = json.load(open('./data/thread.json'))\n",
    "connections = json.load(open('./data/connections-scrollback.json'))"
   ]
  },
  {
   "cell_type": "code",
   "execution_count": 7,
   "metadata": {
    "id": "ideal-peninsula"
   },
   "outputs": [
    {
     "data": {
      "text/plain": [
       "({'ascii': \"[09:14] <crimsun> kleedrac: I'm afraid not. Any version of mplayer except for -k7* should work for your cpu\",\n",
       "  'connections': [],\n",
       "  'date': '2004-12-25',\n",
       "  'id': 0,\n",
       "  'raw': \"[09:14] <crimsun> kleedrac: I'm afraid not. Any version of mplayer except for -k7* should work for your cpu\",\n",
       "  'tokenized': \"<s> <user> : i 'm afraid not . any version of mplayer except for <unk#a*-> should work for your cpu </s>\",\n",
       "  'time': '09:14',\n",
       "  'source': 'crimsun',\n",
       "  'target': 'kleedrac',\n",
       "  'dateparsed': '2004-12-25 09:14'},\n",
       " ['96381', '96382'],\n",
       " ['138089', '138107'])"
      ]
     },
     "execution_count": 7,
     "metadata": {},
     "output_type": "execute_result"
    }
   ],
   "source": [
    "thread['train']['0'], connections['positive']['train'][0], connections['negative']['train'][0]"
   ]
  },
  {
   "cell_type": "code",
   "execution_count": 8,
   "metadata": {
    "id": "immediate-evolution"
   },
   "outputs": [],
   "source": [
    "exec(open('./01-utilities.py').read())\n",
    "exec(open('./05-utilities.py').read())\n",
    "\n",
    "# This is our random seed that we'll be sure to set \n",
    "# anywhere there is randomness...\n",
    "# This will ensure reproducibility in our experiments \n",
    "# and will help control the variance between your results \n",
    "# and that of the sanity checks\n",
    "# Please do not change this!\n",
    "A4_RAND_SEED = 691"
   ]
  },
  {
   "cell_type": "markdown",
   "metadata": {
    "id": "legitimate-maryland"
   },
   "source": [
    "## Experiment"
   ]
  },
  {
   "cell_type": "markdown",
   "metadata": {
    "id": "prescription-radius"
   },
   "source": [
    "### 1. (6 pts) Construct a Tokenizer Object\n",
    "\n",
    "Up until this stage, we've handled tokenization and encoding in a fairly ad hoc fashion with a variety of dictionaries and other simple data structures to aid our transformation from raw text to tokens to type indicies. However, it is fairly commonplace to see many of these transformations bundled together in one object sometimes called the **Vocab** object or the **Tokenizer** object (or a **Vocab** object inside of a **Tokenizer** object). For example, if you want to work with HuggingFace's Transformer library, one of the first things you'd need to acquaint yourself with is their [Tokenizer objects](https://huggingface.co/transformers/tokenizer_summary.html)!\n",
    "\n",
    "Your first task will be to complete the Tokenizer class definition below. Specifically, the Tokenizer will have 4 methods:\n",
    "* `__init__(self, raw_text, max_vocab=20_000)`: Given a list of raw texts, constructs the associated `self.type_index` and `self.index_lookup`. This function is pre-written for you, but notice that we are computing the frequencies of all types and only retaining the most frequent tokens as determined by `max_vocab`.\n",
    "* `tokenize(self, text)`: Given raw text, this function should return the list of tokens.\n",
    "* `encode(self, text, seq_len=32)`: Given raw text, this function should tokenize the text and then convert each token to its type index. `seq_len` determines the max (and min) length of a post.\n",
    "* `decode(self, indices)`: Given a list of raw indices, this function should convert the indices to string tokens and combine them back into a single string.\n",
    "\n",
    "Specifically, your task is to:\n",
    "1. Complete `tokenize()` using our `tokenize()` function from our `01-utilities.py` file. Specifically, `space=False` for this assignment to help reduce our sequence lengths and number of types. You should store your tokens in a variable named `ts` (which the current code returns).\n",
    "2. Complete the definition of `encode()`. Notice that we need to be able to handle an unknown token and should encode an `<unk>` when we encode a type that is outside of our `self.type_index`. Additionally, you'll need to write code that pads (or truncates) sequences to `seq_len`. In other words: \n",
    "  * If the number of tokens > `seq_len`, you should truncate to the first `seq_len` tokens. \n",
    "  * If the number of tokens is less than `seq_len`, you should add `<p>` tokens to fill upto the `seq_len`! \n",
    "  * This is a **critical** step for being able to batch-process our data. Your encoded data should be stored in a variable named `indicies`, which the function returns. \n",
    "4. Complete the definition of `decode()`. Store the full string in a variable `s`."
   ]
  },
  {
   "cell_type": "code",
   "execution_count": 20,
   "metadata": {
    "id": "theoretical-shift",
    "tags": []
   },
   "outputs": [],
   "source": [
    "# A1:Class(6/6)\n",
    "\n",
    "class Tokenizer:\n",
    "    \n",
    "    # Special tokens for our task\n",
    "    PAD = '<p>'\n",
    "    UNK = '<unk>'\n",
    "    \n",
    "    def __init__(self, raw_text, max_vocab=20_000):\n",
    "        # Initialize our type index \n",
    "        # to contain our task-specific PAD and UNK tokens\n",
    "        self.type_index = {\n",
    "            self.PAD: 0,\n",
    "            self.UNK: 1\n",
    "        }\n",
    "        \n",
    "        # Compute the frequencies of types\n",
    "        freqs = Counter([t for raw in raw_text for t in self.tokenize(raw)])\n",
    "        \n",
    "        # Extract the most common\n",
    "        top_cnts = freqs.most_common(max_vocab)\n",
    "\n",
    "        # Add each retained type to our type_index\n",
    "        for t in top_cnts:\n",
    "            t = t[0]\n",
    "            if t not in self.type_index:\n",
    "                self.type_index[t] = len(self.type_index)\n",
    "        \n",
    "        # Create a reverse type_index: a dictionary that maps indices back to types!\n",
    "        self.index_lookup = {v: k for k, v in self.type_index.items()}\n",
    "    \n",
    "    def tokenize(self, text, space = False): #Given raw text, this function should return the list of tokens.\n",
    "        #--- your code starts here\n",
    "        self.raw = text\n",
    "        ts = tokenize(self.raw)\n",
    "        #--- your code ends here\n",
    "        return ts\n",
    "    \n",
    "    def encode(self, text, seq_len=32): \n",
    "        #Given raw text, this function should tokenize the text and then convert each token to its type index. \n",
    "        #seq_len determines the max (and min) length of a post.\n",
    "        \n",
    "        #--- your code starts here\n",
    "        ts = tokenize(text.lower())\n",
    "        indices = []\n",
    "        for t in ts:\n",
    "            indices.append(self.type_index.get(t, self.type_index[self.UNK]))\n",
    "        #If the number of tokens > seq_len, you should truncate to the first seq_len tokens.\n",
    "        if len(indices) > seq_len:\n",
    "            indices = indices[:seq_len]\n",
    "        #If the number of tokens is less than seq_len, you should add <p> tokens to fill upto the seq_len!\n",
    "        if len(indices) < seq_len:\n",
    "            for i in range(seq_len - len(indices)):\n",
    "                indices.append(self.type_index[self.PAD])\n",
    "        #--- your code ends here\n",
    "        \n",
    "        return indices\n",
    "    \n",
    "    def decode(self, indices):#Given a list of raw indices, \n",
    "        #this function should convert the indices to string tokens and combine them back into a single string.\n",
    "\n",
    "        #--- your code starts here\n",
    "        s = ''\n",
    "        for indice in indices:\n",
    "            s += self.index_lookup.get(indice, self.UNK) + \" \" \n",
    "        \n",
    "        #--- your code ends here\n",
    "        \n",
    "        return s"
   ]
  },
  {
   "cell_type": "markdown",
   "metadata": {
    "id": "prompt-tracker"
   },
   "source": [
    "For reference, your output should be:\n",
    "\n",
    "```\n",
    "[4, 31, 2, 67, 3, 6, 657, 5, 3604, 2, 94, 2587, 48, 7, 105, 223, 41, 858, 993, 28, 16859, 117, 129, 120, 28, 81, 736, 0, 0, 0, 0, 0]\n",
    "[ 09 : 14 ] < crimsun > kleedrac : i'm afraid not . any version of mplayer except for -k7 * should work for your cpu <p> <p> <p> <p> <p>\n",
    "\n",
    "[4, 43, 2, 43, 3, 6, 225, 5, 818, 9, 11, 553, 7709, 19, 389, 7686, 11, 11719, 0, 0, 0, 0, 0, 0, 0, 0, 0, 0, 0, 0, 0, 0]\n",
    "[ 11 : 11 ] < seveas > amaranth , the us peer is probably breaking the law <p> <p> <p> <p> <p> <p> <p> <p> <p> <p> <p> <p> <p> <p>\n",
    "\n",
    "[575, 610, 23, 1, 1, 21, 1, 9, 41, 87, 366, 7, 7, 7, 0, 0, 0, 0, 0, 0, 0, 0, 0, 0, 0, 0, 0, 0, 0, 0, 0, 0]\n",
    "test text that <unk> <unk> and <unk> , of all things . . . <p> <p> <p> <p> <p> <p> <p> <p> <p> <p> <p> <p> <p> <p> <p> <p> <p> <p>\n",
    "```"
   ]
  },
  {
   "cell_type": "code",
   "execution_count": 21,
   "metadata": {
    "id": "comfortable-highlight"
   },
   "outputs": [
    {
     "name": "stdout",
     "output_type": "stream",
     "text": [
      "[5, 32, 3, 69, 4, 2, 7, 665, 6, 2, 3712, 3, 2, 260, 2, 2647, 2, 50, 8, 2, 110, 2, 238, 2, 43, 2, 943, 2, 1044, 2, 33, 2]\n",
      "[ 09 : 14 ]   < crimsun >   kleedrac :   i'm   afraid   not .   any   version   of   mplayer   except   for   \n",
      "\n",
      "[5, 45, 3, 45, 4, 2, 7, 2574, 6, 2, 10766, 10, 2, 11, 2, 593, 2, 12608, 2, 19, 2, 396, 2, 8360, 2, 11, 2, 12481, 0, 0, 0, 0]\n",
      "[ 11 : 11 ]   < seveas >   amaranth ,   the   us   peer   is   probably   breaking   the   law <p> <p> <p> <p> \n",
      "\n",
      "[589, 2, 623, 2, 26, 2, 1, 2, 1, 2, 23, 2, 1, 10, 2, 43, 2, 90, 2, 364, 8, 8, 8, 0, 0, 0, 0, 0, 0, 0, 0, 0]\n",
      "test   text   that   <unk>   <unk>   and   <unk> ,   of   all   things . . . <p> <p> <p> <p> <p> <p> <p> <p> <p> \n",
      "\n"
     ]
    }
   ],
   "source": [
    "# A1:SanityCheck\n",
    "tokenizer = Tokenizer([post['raw'] for pid, post in thread['train'].items()])\n",
    "\n",
    "enc = tokenizer.encode(thread['train']['0']['raw'])\n",
    "print(enc)\n",
    "print(tokenizer.decode(enc))\n",
    "print()\n",
    "\n",
    "enc = tokenizer.encode(thread['test']['0']['raw'])\n",
    "print(enc)\n",
    "print(tokenizer.decode(enc))\n",
    "print()\n",
    "\n",
    "enc = tokenizer.encode('test text that discusses quarks and leptons, of all things...')\n",
    "print(enc)\n",
    "print(tokenizer.decode(enc))\n",
    "print()"
   ]
  },
  {
   "cell_type": "markdown",
   "metadata": {
    "id": "interesting-affairs"
   },
   "source": [
    "### 2. (5 pts) Construct a PyTorch Dataset\n",
    "\n",
    "For this next question, your task is to complete a PyTorch Dataset implementation for this dataset. \n",
    "\n",
    "Recall from __Chapter 5__, a PyTorch dataset is a class that has two key functions:\n",
    "* `__len__()`: Which returns the integer length of the dataset\n",
    "* `__getitem__(item)`: Which returns the an instance of the datset, specified by the `item` parameter (an index)\n",
    "\n",
    "Specifically, our `ConvoData` class will accept the following parameters in its constructor (`__init__`):\n",
    "* `tokenizer`: An instance of the `Tokenizer` class (which we built in A1)\n",
    "* `thread`: Our thread JSON\n",
    "* `connections`: Our connections JSON\n",
    "* `split`: A string indicating whether this data should contain the `train`, `validation`, or `test` data\n",
    "\n",
    "You will complete the implementation of the `__init__` function such that our raw posts for our `split` are stored in `self.encoded_posts` and our postiive AND negative connections are stored in `self.connections` in a 3-tuple of the form `(pid1, pid2, 0/1)`. \n",
    "\n",
    "Additionally, your task will be to complete:\n",
    "* `__len__` to return the number of annotated post pairs in this split. \n",
    "* `__getitem__` to return a specific instance of the form:\n",
    "\n",
    "```\n",
    "{\n",
    "  'text1': torch.LongTensor([<encoded post_1 sequence here>]),\n",
    "  'text2': torch.LongTensor([<encoded post_2 sequence here>]),\n",
    "  'label': 0/1\n",
    "}\n",
    "```"
   ]
  },
  {
   "cell_type": "code",
   "execution_count": 18,
   "metadata": {
    "id": "divine-optimization"
   },
   "outputs": [],
   "source": [
    "# A2:Class(5/5)\n",
    "\n",
    "class ConvoData(torch.utils.data.Dataset):\n",
    "    \n",
    "    def __init__(self, tokenizer, thread, connections, split):\n",
    "        self.tok = tokenizer\n",
    "\n",
    "        # Dictionary that should map:\n",
    "        # post_id --> the raw post text, encoded by our tokenizer\n",
    "        self.encoded_posts = {}\n",
    "\n",
    "        # List of the sampled positive/negative connection examples\n",
    "        # Elements have the form (post_id1, post_id2, 0/1)\n",
    "        self.connections = []\n",
    "        for connection in connections['positive'][split]:\n",
    "            pid1 = str(connection[0])\n",
    "            pid2 = str(connection[1])\n",
    "            label = 1\n",
    "            self.connections.append((pid1,pid2,label))\n",
    "        for connection in connections['negative'][split]:\n",
    "            pid1 = str(connection[0])\n",
    "            pid2 = str(connection[1])\n",
    "            label = 0\n",
    "            self.connections.append((pid1,pid2,label))\n",
    "                      \n",
    "        #--- your code starts here\n",
    "        for post_id, post in thread[split].items():\n",
    "            self.encoded_posts[str(post_id)] = self.tok.encode(post[\"raw\"])\n",
    "            \n",
    "        \n",
    "        #--- your code ends here\n",
    "    \n",
    "    def __len__(self):\n",
    "        #--- your code starts here\n",
    "        #to return the number of annotated post pairs in this split.\n",
    "        length = len(self.connections)\n",
    "        #--- your code ends here\n",
    "        return length\n",
    "    \n",
    "    def __getitem__(self, item):\n",
    "        #to return a specific instance of the form\n",
    "        #--- your code starts here\n",
    "        pid1 = self.connections[item][0]\n",
    "        pid2 = self.connections[item][1]\n",
    "        label = self.connections[item][2]\n",
    "        \n",
    "        x = {\n",
    "            'text1': torch.LongTensor(self.encoded_posts[pid1]),\n",
    "            'text2': torch.LongTensor(self.encoded_posts[pid2]),\n",
    "            'label': label }\n",
    "        \n",
    "        #--- your code ends here\n",
    "\n",
    "        return x"
   ]
  },
  {
   "cell_type": "markdown",
   "metadata": {
    "id": "conceptual-moderator"
   },
   "source": [
    "For reference, your output should be:\n",
    "\n",
    "```\n",
    "Split: train\n",
    "Length of split: 2766993\n",
    "Item 0: {'text1': tensor([    4,    39,     2,   174,     3,     6,  2207,     5,    10,    44,\n",
    "          160,  4734,  1088,  3518,    25,    11,  5830,   832,    32,    47,\n",
    "        18791,    25,    17,   981,     0,     0,     0,     0,     0,     0,\n",
    "            0,     0]), 'text2': tensor([    4,    39,     2,   174,     3,     6,  2207,     5,    56,  1225,\n",
    "           56, 16458,    19,   416,   333,     0,     0,     0,     0,     0,\n",
    "            0,     0,     0,     0,     0,     0,     0,     0,     0,     0,\n",
    "            0,     0]), 'label': 1}\n",
    "--------------------------------------------------\n",
    "Split: validation\n",
    "Length of split: 150139\n",
    "Item 0: {'text1': tensor([   4,   43,    2,   83,    3,    6,  199,    5,    1,    2, 4987,    9,\n",
    "         108,   92,    0,    0,    0,    0,    0,    0,    0,    0,    0,    0,\n",
    "           0,    0,    0,    0,    0,    0,    0,    0]), 'text2': tensor([    4,    43,     2,    83,     3,     6,   199,     5,     1,     2,\n",
    "          128,   576,  1010, 16337,     0,     0,     0,     0,     0,     0,\n",
    "            0,     0,     0,     0,     0,     0,     0,     0,     0,     0,\n",
    "            0,     0]), 'label': 1}\n",
    "--------------------------------------------------\n",
    "Split: test\n",
    "Length of split: 191685\n",
    "Item 0: {'text1': tensor([   4,   78,    2,  133,    3,    6,  552,    5,    1,    2,   46,   20,\n",
    "          89,   59,   13,   74, 1920,   14,    0,    0,    0,    0,    0,    0,\n",
    "           0,    0,    0,    0,    0,    0,    0,    0]), 'text2': tensor([    4,    78,     2,   177,     3,     6,     1,     5,   552,     2,\n",
    "           10,    62,   115,    13,   606,   126,   793,   890,    21,  1299,\n",
    "            7,    16,   296,    56,   167,    60, 14883,     7,     0,     0,\n",
    "            0,     0]), 'label': 1}\n",
    "--------------------------------------------------\n",
    "```"
   ]
  },
  {
   "cell_type": "code",
   "execution_count": 19,
   "metadata": {
    "id": "posted-rings"
   },
   "outputs": [
    {
     "name": "stdout",
     "output_type": "stream",
     "text": [
      "Split: train\n",
      "Length of split: 2766993\n",
      "Item 0: {'text1': tensor([    5,    41,     3,   171,     4,     2,     7,  2256,     6,     2,\n",
      "           21,     2,    49,     2,   165,     2,  4924,     2,  1131,     2,\n",
      "        12042,     2,    27,     2,    11,     2, 10683,     2,   908,     2,\n",
      "           34,     2]), 'text2': tensor([    5,    41,     3,   171,     4,     2,     7,  2256,     6,     2,\n",
      "           57,     2,  1287,     2,    57,     2, 19279,     2,    19,     2,\n",
      "          428,     2,   335,     0,     0,     0,     0,     0,     0,     0,\n",
      "            0,     0]), 'label': 1}\n",
      "--------------------------------------------------\n",
      "Split: validation\n",
      "Length of split: 150139\n",
      "Item 0: {'text1': tensor([   5,   45,    3,   83,    4,    2,    7,  199,    6,    2,    1,    3,\n",
      "           2, 5615,   10,    2,  116,    2,   94,    0,    0,    0,    0,    0,\n",
      "           0,    0,    0,    0,    0,    0,    0,    0]), 'text2': tensor([    5,    45,     3,    83,     4,     2,     7,   199,     6,     2,\n",
      "            1,     3,     2,   126,     2,   581,     2,  1306,     2, 19126,\n",
      "            0,     0,     0,     0,     0,     0,     0,     0,     0,     0,\n",
      "            0,     0]), 'label': 1}\n",
      "--------------------------------------------------\n",
      "Split: test\n",
      "Length of split: 191685\n",
      "Item 0: {'text1': tensor([   5,   76,    3,  132,    4,    2,    7,  572,    6,    2,    1,    3,\n",
      "           2,   47,    2,   22,    2,   89,    2,   68,    2,   13,    2,   78,\n",
      "           2, 2088,   14,    0,    0,    0,    0,    0]), 'text2': tensor([   5,   76,    3,  175,    4,    2,    7,    1,    6,    2,  572,    3,\n",
      "           2,   18,    2,   65,    2,  114,    2,   13,    2,  613,    2,  128,\n",
      "           2,  830,    2,  929,    2,   23,    2, 1326]), 'label': 1}\n",
      "--------------------------------------------------\n"
     ]
    }
   ],
   "source": [
    "# A2:SanityCheck\n",
    "\n",
    "splits = ['train', 'validation', 'test']\n",
    "data = {key: ConvoData(tokenizer, thread, connections, key) for key in splits}\n",
    "\n",
    "for split in splits:\n",
    "    print(f'Split: {split}')\n",
    "    print(f'Length of split: {len(data[split])}')\n",
    "    print(f'Item 0: {data[split][0]}')\n",
    "    print('-' * 50)"
   ]
  },
  {
   "cell_type": "markdown",
   "metadata": {
    "id": "industrial-breakfast"
   },
   "source": [
    "### 3. (4 pts) Prepare Pre-Trained Word Embeddings\n",
    "\n",
    "A final step before building out our net will be to load a set of pre-trained word vectors into a Torch $|V| \\times d$-dim matrix. We'll then be using this matrix within our neural net as the initial embedding layer!\n",
    "\n",
    "We've done the heavy-lifting for you all already by performing a word vector pre-training stage (using the attached PyTorch GloVe notebook). \n",
    "The code below loads these vectors into a dictionary that maps a string type to its associated pre-trained vector (as a `torch.FloatTensor`).\n",
    "\n",
    "Oftentimes when we deal with pre-trained vectors, we'll have a situation where the pre-trained vectors lack total coverage over our type-space. For example, here, we won't have pre-trained vectors for tokens like `<p>` and `<unk>`! What we do with these un-seen types is up to us but, in general, there are typically two standard approaches:\n",
    "* Randomly initialize a vector for the unseen types. This is great when we plan to back-propagate _through_ our pre-trained vectors and update them.\n",
    "* Set them equal to a zero vector. This is a typical approach when we are keeping our pre-trained vectors static. \n",
    "\n",
    "For our situation, we'll be keeping our pre-trained vectors fixed, so you should simply initialize unseen vectors to a zero vector!\n",
    "\n",
    "Your task will be to complete the definition of `prepare_embedding()` which takes as input:\n",
    "- `tokenizer`: A tokenizer that was constructed through A1.\n",
    "- `d=256`: The dimensionality of our pre-trained word vectors.\n",
    "\n",
    "Complete the definition below by:\n",
    "1. Initializing an`embed` matrix of size `(vocab_size, d)`. (Hint: Is there a PyTorch function we can use here?)\n",
    "2. Iterate over your entire vocabulary and check if we have a pre-trained vector in `pre_trained`. If so, you should update these rows of our embedding matrix to be the pre-trained vectors!"
   ]
  },
  {
   "cell_type": "code",
   "execution_count": 13,
   "metadata": {
    "id": "several-return"
   },
   "outputs": [
    {
     "ename": "IndentationError",
     "evalue": "expected an indented block (<ipython-input-13-a0e17b96015f>, line 20)",
     "output_type": "error",
     "traceback": [
      "\u001b[0;36m  File \u001b[0;32m\"<ipython-input-13-a0e17b96015f>\"\u001b[0;36m, line \u001b[0;32m20\u001b[0m\n\u001b[0;31m    pre_trained[dx['type']] = torch.tensor(dx['vec'])\u001b[0m\n\u001b[0m    ^\u001b[0m\n\u001b[0;31mIndentationError\u001b[0m\u001b[0;31m:\u001b[0m expected an indented block\n"
     ]
    }
   ],
   "source": [
    "# A3:Function(4/4)\n",
    "\n",
    "def prepare_embedding(tokenizer, d=256):\n",
    "    torch.manual_seed(A4_RAND_SEED)\n",
    "\n",
    "    # get the vocab size from the tokenizer object\n",
    "    vocab_size = len(tokenizer.type_index)\n",
    "\n",
    "    # this targets the number of epochs our pre-trained vectors \n",
    "    # have been trained for\n",
    "    e = 100 if d > 100 else 50\n",
    "    \n",
    "    # loading pre-trained vectors from a file\n",
    "    pre_trained = {}\n",
    "    for dx in json.load(open(f'./data/glove.irc_dis.gamma.UV.20000v.{d}d.{e}e.json')):\n",
    "\n",
    "    # each pre-trained vector is stored in this dictionary\n",
    "    # and indexed by type... \n",
    "    # you'll want to use these in your solution.\n",
    "    pre_trained[dx['type']] = torch.tensor(dx['vec'])\n",
    "    \n",
    "    #--- your code starts here\n",
    "    # from 5.6.1 in notes\n",
    "    word = tokenizer.decode(tokenizer.type_index)\n",
    "    word_vectors = pre_trained[dx['type']]\n",
    "    if word is in model:\n",
    "        pre_trained[dx['type']] = torch.tensor(dx['vec'])\n",
    "    else:\n",
    "        pre_trained[dx['type']] = torch.radn(d)\n",
    "        \n",
    "    embed = nn.Embedding.from_pretrained(word_vectors, freeze=False)\n",
    "    \n",
    "    #--- your code ends here\n",
    "    \n",
    "    return embed"
   ]
  },
  {
   "cell_type": "markdown",
   "metadata": {
    "id": "perfect-creator"
   },
   "source": [
    "For reference, your output should be:\n",
    "\n",
    "```\n",
    "torch.Size([20002, 256])\n",
    "tensor([[ 0.0000e+00,  0.0000e+00,  0.0000e+00,  ...,  0.0000e+00,\n",
    "          0.0000e+00,  0.0000e+00],\n",
    "        [ 0.0000e+00,  0.0000e+00,  0.0000e+00,  ...,  0.0000e+00,\n",
    "          0.0000e+00,  0.0000e+00],\n",
    "        [ 5.5330e-02,  6.2050e-02, -5.2781e-01,  ..., -8.6360e-02,\n",
    "         -1.3103e-01,  3.3915e-03],\n",
    "        ...,\n",
    "        [-2.0513e+00,  6.9725e-01, -2.5020e-01,  ..., -1.0655e+00,\n",
    "         -7.4829e-01, -1.6333e-01],\n",
    "        [ 9.1595e-01,  1.5415e+00, -5.2368e-01,  ..., -1.4201e+00,\n",
    "         -1.9484e+00,  2.0252e+00],\n",
    "        [ 1.5599e-04,  1.4381e-01,  5.2194e-01,  ...,  2.4124e+00,\n",
    "         -1.5215e+00,  6.3936e-01]])\n",
    "vector for `the`:\n",
    "\ttensor([-0.0910,  0.7002, -1.0886, -0.0050, -0.8399, -0.8655, -0.8205, -0.0975,\n",
    "         0.1663,  0.2098, -0.1550,  0.3032,  1.1947,  0.0876, -0.1028,  0.8509,\n",
    "         0.3207, -0.9995, -0.2678,  0.7552,  0.6390,  1.2122, -0.3684,  0.5813,\n",
    "        -0.2041, -0.6912, -1.1293, -0.3021,  0.2596,  0.3079,  0.5679, -0.7958,\n",
    "        -0.4164, -0.5064, -0.2294,  0.2405,  1.1633, -0.3709,  0.7650, -0.8030,\n",
    "         0.0122, -0.1422,  0.6041,  1.0734,  0.2321,  0.1729,  0.6801,  0.1193,\n",
    "        -1.1175, -0.4009, -1.3320, -0.2763,  0.2037, -0.5324, -0.0971, -0.3142,\n",
    "        -0.2396,  0.1987, -0.0235,  0.3011,  0.0988, -0.7174,  1.2308, -0.3195,\n",
    "         0.0964, -0.0166, -0.8535, -0.7589,  0.3287,  0.9937,  0.8016,  0.2805,\n",
    "        -0.4909, -0.1287,  0.3736,  0.3364,  0.8932,  0.4876, -0.2766, -0.3640,\n",
    "         0.2179, -0.2390,  0.2119, -0.3030,  1.0217,  1.0444,  0.5470,  0.3586,\n",
    "        -0.3584, -0.6174,  0.6934, -0.6052, -0.5884, -0.2945,  0.1169, -0.2979,\n",
    "        -0.0685, -0.5040,  0.1867,  0.3447,  0.4708, -0.2439,  1.1875, -0.2917,\n",
    "        -0.1921, -0.0750,  0.0650,  0.6981,  0.5165, -0.1927, -0.3671,  0.2057,\n",
    "         1.2693,  1.1969,  0.5199,  0.4818,  0.0297, -0.1172,  0.9700, -0.9332,\n",
    "        -0.1428, -0.3352,  0.0396, -0.4104,  0.4018,  0.1622,  0.2687, -0.1008,\n",
    "        -0.3142,  0.1844,  0.4746,  1.1243,  0.0201, -0.4580,  0.2855, -0.0864,\n",
    "        -0.5469, -0.6782,  0.1832,  0.5202, -1.3231,  0.7771, -0.3023,  0.4376,\n",
    "         0.2205, -0.8284,  0.1404,  0.4204, -0.5316,  0.0499,  0.4126, -0.0607,\n",
    "         0.4192,  0.9050,  0.2379,  0.5779, -0.5274,  0.0542,  0.6732,  0.3856,\n",
    "        -1.0804,  0.0189,  0.9192, -0.3898, -0.1322, -0.5356, -0.0569,  0.3646,\n",
    "        -0.1382,  0.1036, -0.6530, -0.2462,  0.7744, -0.6607,  0.3242,  0.3057,\n",
    "         1.2024, -0.3707,  0.0821,  1.0900,  0.5451,  0.2304, -0.3726,  0.9965,\n",
    "        -0.3956,  0.8745,  0.2489, -0.2638,  0.7182,  0.5365, -0.7999,  0.3701,\n",
    "        -1.1877, -0.7252, -0.2837,  0.1715, -0.8954,  0.4585, -0.5528, -0.8754,\n",
    "        -0.0083, -1.0111, -0.4509,  0.8309, -0.3232,  0.6305,  0.1970,  0.8007,\n",
    "        -0.9212, -0.5292,  0.8386,  0.1188,  0.6791,  0.0880,  0.3957, -0.5118,\n",
    "         0.1173,  0.5930,  1.3257, -0.0593,  0.2846,  0.0891,  1.4265, -0.0245,\n",
    "        -1.1769,  1.2603,  0.1309, -0.0145, -0.4470, -0.7128, -0.3813,  0.2501,\n",
    "        -0.9774, -0.1998,  1.1933,  0.8330, -0.2647,  0.4152, -0.5829, -0.2239,\n",
    "         0.1413, -0.3218, -0.5352,  0.9728,  0.1580, -0.5890, -0.6398, -0.3981,\n",
    "         0.5045, -0.7699, -0.1118,  1.0034,  0.3314, -0.7870,  0.4526, -0.1126])\n",
    "vector for `xophe`:\n",
    "\ttensor([ 1.1324,  0.4173, -0.4146,  0.1567, -0.3575, -0.2206, -0.2496, -0.2759,\n",
    "         0.6857, -0.5423, -0.2127,  1.7711, -1.4535, -2.3756, -0.3175, -0.8497,\n",
    "        -1.2541, -1.3572,  1.2560, -1.0639, -0.7513,  0.0703,  1.4802, -1.5602,\n",
    "         1.9193,  0.9983, -0.5161,  1.2262, -0.2240,  1.1793,  1.8929, -1.1358,\n",
    "        -0.6482,  0.1636, -0.2866, -0.8254, -0.4475, -1.3477, -0.3217, -1.8803,\n",
    "         0.1699, -1.0760, -1.5206, -0.0466,  0.1418, -1.0264,  0.7537, -0.8741,\n",
    "         1.7336, -0.4123,  0.9263, -0.5316,  0.0346,  1.2937,  1.0682, -1.1901,\n",
    "         0.1180,  1.3216,  0.8753,  1.4903, -0.5931, -0.3278,  1.4042, -1.0117,\n",
    "        -0.8826,  0.9879, -0.3040, -0.9477,  0.6573,  0.4145, -0.3076,  1.5472,\n",
    "         1.3351,  1.2054, -0.3368, -0.3059,  0.5241, -0.6696, -0.7753, -0.2720,\n",
    "         0.5460,  0.5958, -1.3903, -1.0661,  1.0803,  2.3237, -0.3914,  0.7134,\n",
    "         1.7078, -0.4828, -0.6647,  1.5597,  0.0697,  0.7354, -1.3067, -0.4376,\n",
    "         2.4781,  0.7165, -1.5963, -0.1804, -1.8537,  1.0520, -1.1056,  2.3299,\n",
    "         1.6530, -1.8528, -0.4195,  1.3122,  0.5254, -2.5972,  2.2549, -0.9238,\n",
    "        -0.8085,  0.9737,  1.4187, -1.0748, -0.1766,  0.5124,  0.0411,  1.7265,\n",
    "         1.7008,  3.2463,  0.0769,  1.9462,  0.8518, -0.4637, -0.9173,  0.1669,\n",
    "        -0.8773,  0.4614, -0.0379,  1.2138, -0.6566,  1.5367, -0.1889,  1.3965,\n",
    "         1.1827,  0.1792, -0.3957,  0.5739,  0.2144,  0.1297, -2.4859,  1.2890,\n",
    "        -1.2701,  1.0734,  1.3713, -1.9133,  1.9308, -0.6111, -1.8737,  0.0242,\n",
    "        -1.8001,  0.2539, -0.1451, -0.3356,  2.2064,  0.8377,  1.4838,  0.0357,\n",
    "        -2.3894,  1.0459, -0.7166, -0.5763, -0.7279, -1.5633,  1.2064, -0.2727,\n",
    "         0.3477, -0.9127, -2.3760, -0.0887,  0.0353, -1.3676, -0.2566, -0.0807,\n",
    "         1.3730,  0.9258, -1.0639,  1.2183, -1.0348,  0.1381, -0.1843, -0.2132,\n",
    "         1.0605, -0.6190,  2.6138, -0.0423, -0.7377,  0.2770, -0.3714,  0.3304,\n",
    "         1.3663, -0.0214,  0.3018, -0.3481,  0.6361, -0.5208, -1.9439, -0.8452,\n",
    "        -0.2644,  0.3772, -1.5110,  1.0063, -1.3015,  0.6810,  0.0167, -0.0650,\n",
    "        -2.2719, -0.1928, -1.8421, -1.2011, -0.1584,  0.3337, -0.2185,  0.3329,\n",
    "         0.3673,  0.2895, -1.1270,  1.8562, -1.4428, -2.0154,  0.7433,  1.2795,\n",
    "        -0.2491, -1.4859,  1.8752, -2.0063,  0.6946,  1.4802, -1.6602, -1.7357,\n",
    "         1.3383,  0.2147, -1.2828,  0.3084, -0.9286,  0.6403, -1.2112,  2.3265,\n",
    "         0.3332, -0.5157,  0.4171,  0.3891, -0.8628,  1.2914,  0.1481,  1.5756,\n",
    "        -0.1282, -0.0356, -0.6774,  0.0214, -0.0577, -2.0577,  0.8632,  1.2437])\n",
    "vector for `<unk>`: \n",
    "\ttensor([0., 0., 0., 0., 0., 0., 0., 0., 0., 0., 0., 0., 0., 0., 0., 0., 0., 0., 0., 0., 0., 0., 0., 0.,\n",
    "        0., 0., 0., 0., 0., 0., 0., 0., 0., 0., 0., 0., 0., 0., 0., 0., 0., 0., 0., 0., 0., 0., 0., 0.,\n",
    "        0., 0., 0., 0., 0., 0., 0., 0., 0., 0., 0., 0., 0., 0., 0., 0., 0., 0., 0., 0., 0., 0., 0., 0.,\n",
    "        0., 0., 0., 0., 0., 0., 0., 0., 0., 0., 0., 0., 0., 0., 0., 0., 0., 0., 0., 0., 0., 0., 0., 0.,\n",
    "        0., 0., 0., 0., 0., 0., 0., 0., 0., 0., 0., 0., 0., 0., 0., 0., 0., 0., 0., 0., 0., 0., 0., 0.,\n",
    "        0., 0., 0., 0., 0., 0., 0., 0., 0., 0., 0., 0., 0., 0., 0., 0., 0., 0., 0., 0., 0., 0., 0., 0.,\n",
    "        0., 0., 0., 0., 0., 0., 0., 0., 0., 0., 0., 0., 0., 0., 0., 0., 0., 0., 0., 0., 0., 0., 0., 0.,\n",
    "        0., 0., 0., 0., 0., 0., 0., 0., 0., 0., 0., 0., 0., 0., 0., 0., 0., 0., 0., 0., 0., 0., 0., 0.,\n",
    "        0., 0., 0., 0., 0., 0., 0., 0., 0., 0., 0., 0., 0., 0., 0., 0., 0., 0., 0., 0., 0., 0., 0., 0.,\n",
    "        0., 0., 0., 0., 0., 0., 0., 0., 0., 0., 0., 0., 0., 0., 0., 0., 0., 0., 0., 0., 0., 0., 0., 0.,\n",
    "        0., 0., 0., 0., 0., 0., 0., 0., 0., 0., 0., 0., 0., 0., 0., 0.])\n",
    "```"
   ]
  },
  {
   "cell_type": "code",
   "execution_count": null,
   "metadata": {
    "id": "swiss-belief"
   },
   "outputs": [],
   "source": [
    "# A3:SanityCheck\n",
    "\n",
    "embed_tensor = prepare_embedding(tokenizer)\n",
    "print(embed_tensor.size())\n",
    "print(embed_tensor)\n",
    "print(f'vector for `the`:\\n\\t{embed_tensor[tokenizer.type_index[\"the\"]]}')\n",
    "print(f'vector for `xophe`:\\n\\t{embed_tensor[tokenizer.type_index[\"xophe\"]]}')\n",
    "print(f'vector for `<unk>`: \\n\\t{embed_tensor[tokenizer.type_index[\"<unk>\"]]}')"
   ]
  },
  {
   "cell_type": "markdown",
   "metadata": {
    "id": "molecular-dominican"
   },
   "source": [
    "### 4. (5 pts) Construct a Network Architecture \n",
    "\n",
    "Your next task will be to implement a feed-forward network architecture in PyTorch, designed for this task. To begin, we'll sketch out our architecture.\n",
    "\n",
    "Recall from A2 that our dataset will yield two input sequences of token indices, $\\vec{t}_1$ and $\\vec{t}_2$.\n",
    "The first operation of our network will convert these indices into a dense, embedded representation using an [Embedding layer](https://pytorch.org/docs/stable/generated/torch.nn.Embedding.html). Mathematically: \n",
    "\n",
    "$$\\vec{t}_i = \\left[t_0, t_1, ..., t_{31}\\right],\\ \\vec{t}_i \\in \\mathbb{Z}^{32}$$\n",
    "\n",
    "$$E_i \\in \\mathbb{R}^{s \\times d}: E_i = \\text{Emb}(\\vec{t}_i)$$\n",
    "\n",
    "where $s=32$ (our sequence length) and $d=256$ (our latent word embedding dimension).\n",
    "\n",
    "After embedding our indices, we have a 2-dimensional tensor $E_i$. What does $E_i$ represent? \n",
    "\n",
    "If you reflect for a moment, each of our $s \\times d$ matrices is a 2-dimensional representation of our text. Each row represents a type, each column is a latent dimension. No matter what we do, we need a mechanism for aggregating this word-level information into an overall \"sentence\" or \"post\" representation. \n",
    "\n",
    "Some simple approaches we could take are:\n",
    "* Just average the word vectors together\n",
    "* Take a (fixed) weighted-average of the word vectors (think similarly to TF-IDF weighting)\n",
    "* Learn a weighting for how to average the word vectors \n",
    "\n",
    "In this problem, \n",
    "we'll take the last approach. \n",
    "Specifically, we will concatenate our two embedding sequences $E_0,E_1$ together using `torch.cat()` \n",
    "and then will _unroll_ this matrix representation as a single vector of $(2*s*d)$ dimensions.\n",
    "\n",
    "$$\n",
    "E = \\text{concat}([E_1;E_2]), E \\in \\mathbb{R}^{2s \\times d}\n",
    "$$\n",
    "\n",
    "$$\n",
    "\\vec{e} = \\text{flatten}(E), \\vec{e} \\in \\mathbb{R}^{2sd}\n",
    "$$\n",
    "\n",
    "With $\\vec{e}$ in hand, our next step is to process it with the hallmark of dense neural networks: The [Linear Layer](https://pytorch.org/docs/stable/generated/torch.nn.Linear.html). \n",
    "\n",
    "$$\n",
    "\\vec{z}_0 = W_0 \\vec{e} + \\vec{b}_0\n",
    "$$\n",
    "\n",
    "with $W_0 \\in \\mathbb{R}^{d_0 \\times 2sd}$ and $\\vec{b}_0 \\in \\mathbb{R}^{d_0}$. You'll notice $d_0$ is a hyperparameter that we may choose.\n",
    "For this assignment, we'll call this our network's `hidden_dim` and \n",
    "we'll choose $d_0=128$. Make note, however, this is a design choice and one that you could adjust in practice (e.g., through hyperparameter tuning).\n",
    "\n",
    "Next, we'll use a non-linear activation function:\n",
    "\n",
    "$$\n",
    "\\vec{h}_0 = f(\\vec{z}_0)\n",
    "$$\n",
    "\n",
    "Again, our choice for non-linear activation is a hyperparameter. \n",
    "To use something beyond the familiar sigmoid activation, \n",
    "you should use a Rectified Linear Unit activation\n",
    "or [ReLU](https://pytorch.org/docs/stable/generated/torch.nn.ReLU.html)\n",
    "for short. \n",
    "It functions similarly to sigmoid, but check out the documentation \n",
    "to familiarize yourself with this common activation function!\n",
    "\n",
    "One thing you'll often see in neural networks are normalization layers. \n",
    "These control the degree of overfitting that our network will do as well as can help to keep internal values \n",
    "concentrated towards a standard normal distribution.\n",
    "Specifically, we'll use a type of normalization called [Batch Normalization](https://pytorch.org/docs/stable/generated/torch.nn.BatchNorm1d.html), \n",
    "which can make networks more robust. \n",
    "Part of your task here is to check out the documentation about this layer, understand how it works, and apply it.\n",
    "\n",
    "Using $\\text{BN}$ as mathematical short-hand for the operation that BatchNorm1d performs, we have that: \n",
    "\n",
    "$$\n",
    "\\vec{g}_0 = \\text{BN}_0(\\vec{h}_0)\n",
    "$$\n",
    "\n",
    "As a final step, let's take our current (normalized) hidden representation $\\vec{g}_0$ and feed it through a final, linear prediction layer:\n",
    "\n",
    "$$\n",
    "\\hat{y} = W_1\\vec{g}_0 + b_1\n",
    "$$\n",
    "\n",
    "where $W_1 \\in \\mathbb{R}^{1 \\times d_0}$ and $b_2 \\in \\mathbb{R}$.\n",
    "\n",
    "Note: We will not be applying sigmoid to the final prediction (although, applying sigmoid would convert this raw $\\hat{y}$ into a probabilistic prediction...). This is because (as you'll see below) we'll be using the PyTorch loss function [BCEWithLogitsLoss](https://pytorch.org/docs/stable/generated/torch.nn.BCEWithLogitsLoss.html) which uses a computational trick to combine the loss with the sigmoid computation for more stable gradients.\n",
    "As mentioned in __Chapter 5__, this isn't a new or different loss function; this is just the combination of negative log likelihood and cross-entropy loss, specifically oriented towards the situation when we aim to do binary classification.\n",
    "\n",
    "For some, a visualization of the pipeline may also be helpful:"
   ]
  },
  {
   "cell_type": "markdown",
   "metadata": {
    "id": "FLsWtj4Z0ugA"
   },
   "source": [
    "![simplenet.png](data:image/png;base64,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)"
   ]
  },
  {
   "cell_type": "markdown",
   "metadata": {
    "id": "ip_dA0CN0tNA"
   },
   "source": [
    "Now that we've sketched out the architecture, your goal is to complete the PyTorch implementation of it. Specifically, you will need to complete both the `__init__` and `forward` functions.\n",
    "\n",
    "The `__init__` function will receive as input the following parameters:\n",
    "- `embed_tensor`: The torch.FloatTensor produced in A3 (the previous question).\n",
    "- `hidden_dim=128`: This is our hyperparameter $d_0$\n",
    "- `seq_len=32`: This is the length of each token sequence $s$\n",
    "\n",
    "To complete `__init__`, you should:\n",
    "1. Construct an embedding layer `self.embed` using [torch.nn.Embedding.from_pretrained](https://pytorch.org/docs/stable/generated/torch.nn.Embedding.html#torch.nn.Embedding.from_pretrained). You should be sure to set `freeze=True`. Although back-propagation through our word vectors _could_ give a performance increase, it would also greatly increase training time. (Feel free to play around with `freeze=False` and compare, but just be sure to flip this to `True` before proceeding and/or submitting!).\n",
    "2. Construct a [Linear layer](https://pytorch.org/docs/stable/generated/torch.nn.Linear.html) `self.linear0` that goes from `2 * seq_len * word_dim` features to `hidden_dim` features.\n",
    "3. Construct a [ReLU](https://pytorch.org/docs/stable/generated/torch.nn.ReLU.html) activation layer and store it in a variable `self.act`\n",
    "4. Construct a [BatchNorm1D](https://pytorch.org/docs/stable/generated/torch.nn.BatchNorm1d.html) layer. This takes a parameter `num_features` which you should be able to set to the output size of the previous linear layer (`hidden_dim`). Store this in a variable `self.bn`.\n",
    "5. Construct a final Linear layer for prediction `self.pred`. This should go `hidden_dim` to 1.\n",
    "\n",
    "With `__init__` completed, implement `forward` which should take input `t1` and `t2` (our `torch.LongTensor`s of indices) and use the previously initialized layers to compute a prediction `y_pred`. **Do not forget to average your word embeddings and concatenate your two representations prior to applying the next linear layer**."
   ]
  },
  {
   "cell_type": "code",
   "execution_count": null,
   "metadata": {
    "id": "supreme-librarian"
   },
   "outputs": [],
   "source": [
    "# A4:Class(5/5)\n",
    "\n",
    "class SimpleNet(torch.nn.Module):\n",
    "    \n",
    "    def __init__(self, embed_tensor, hidden_dim=128, seq_len=32):\n",
    "        # call super class constructor\n",
    "        super(SimpleNet, self).__init__()\n",
    "\n",
    "        # set the random seed\n",
    "        torch.manual_seed(A4_RAND_SEED)\n",
    "\n",
    "        # Extracting the word vector dimension \n",
    "        # from our embedding tensor!\n",
    "        word_dim = embed_tensor.size(1)\n",
    "    \n",
    "\n",
    "        #--- your code starts here\n",
    "        self.embed =  nn.Embedding.from_pretrained(word_vectors, freeze = True )\n",
    "        self.concat = torch.cat(self.embed)\n",
    "        self.flatten = torch.flatten(self.concat, start_dim = 1)\n",
    "        self.linear0 = nn.Linear((2 * seq_len * word_dim), hidden_dim)\n",
    "        self.act = nn.ReLU()\n",
    "        self.bn = nn.BatchNorm1d(num_features = hidden_dim, eps=1e-05, momentum=0.1, affine=True, track_running_stats=True)\n",
    "        self.pred = nn.Linear(hidden_dim, 1, bias = False)\n",
    "        #--- your code ends here\n",
    "        \n",
    "    def forward(self, t1, t2):\n",
    "        #--- your code starts here\n",
    "        self.t1 = self._layer1.forward(t1)\n",
    "        self.t2 = self._layer2.forward(t2)\n",
    "        y_pred = self.pred(self.t1, self.t2)\n",
    "        #--- your code ends here\n",
    "        \n",
    "        # your final result should be a tensor \n",
    "        # of size (B, 1)\n",
    "        # where B is the batch size...\n",
    "        # We should squeeze this to get rid \n",
    "        # of the singular dimension in the last axis\n",
    "        y_pred = y_pred.squeeze(-1)\n",
    "        \n",
    "        return y_pred"
   ]
  },
  {
   "cell_type": "markdown",
   "metadata": {
    "id": "green-shepherd"
   },
   "source": [
    "For reference, your output should produce (Note: test instance output may exhibit substantial random difference):\n",
    "\n",
    "```\n",
    "Network architecture:\n",
    "SimpleNet(\n",
    "  (embed): Embedding(20002, 256)\n",
    "  (linear0): Linear(in_features=16384, out_features=128, bias=True)\n",
    "  (act): ReLU()\n",
    "  (bn): BatchNorm1d(128, eps=1e-05, momentum=0.1, affine=True, track_running_stats=True)\n",
    "  (pred): Linear(in_features=128, out_features=1, bias=True)\n",
    ")\n",
    "\n",
    "Test instance:\n",
    "tensor([-0.0377], grad_fn=<SqueezeBackward1>)\n",
    "```"
   ]
  },
  {
   "cell_type": "code",
   "execution_count": null,
   "metadata": {
    "id": "bottom-infrastructure"
   },
   "outputs": [],
   "source": [
    "# A4:SanityCheck\n",
    "\n",
    "net = SimpleNet(prepare_embedding(tokenizer))\n",
    "\n",
    "print('Network architecture:')\n",
    "print(net)\n",
    "print()\n",
    "\n",
    "# To test without training, we need to enter eval mode\n",
    "# otherwise the BatchNorm1d layer will complain\n",
    "net.eval()\n",
    "\n",
    "input_x = data['train'][0]\n",
    "\n",
    "print('Test instance:')\n",
    "print(net(input_x['text1'].unsqueeze(0), input_x['text2'].unsqueeze(0)))"
   ]
  },
  {
   "cell_type": "markdown",
   "metadata": {
    "id": "particular-holiday"
   },
   "source": [
    "### 5. (2 pts) Construct a Loss Function \n",
    "\n",
    "For this question, complete the definition of `get_loss_func` which should simply return the loss function needed to train our network. Specifically, this should be the [BCEWithLogitsLoss](https://pytorch.org/docs/stable/generated/torch.nn.BCEWithLogitsLoss.html#torch.nn.BCEWithLogitsLoss) since we are dealing with a binary class prediction (connected or not connected). \n",
    "\n",
    "Also, recall that we have a very unbalanced training set (more than 20 negative connection examples for every positive example). One way we can make our model more sensitive to the minority, positive class is to weight our loss function by supplying a weight as the `pos_weight` parameter in the `BCEWithLogitsLoss` constructor. With that in mind, your job is to complete `get_loss_func` so that it not only returns a `BCEWithLogitsLoss` function, but one that is a _weighted_ `BCEWithLogitsLoss` with `pos_weight=torch.tensor([pos_weight])`. \n",
    "\n",
    "Finally, make sure that you're using the `reduction` parameter to specify that we wish to get a total (e.g., a `sum`) instead of the average loss.\n",
    "\n",
    "Again, the documentation (linked above) is your friend in solving this one :)"
   ]
  },
  {
   "cell_type": "code",
   "execution_count": null,
   "metadata": {
    "id": "asian-weekend"
   },
   "outputs": [],
   "source": [
    "# A5:Function(2/2)\n",
    "\n",
    "def get_loss_func(pos_weight=1):\n",
    "    \n",
    "    #--- your code starts here\n",
    "    loss_fn = torch.nn.BCEWithLogitsLoss(weight=None, size_average=None, \n",
    "                                         reduce=None, reduction='mean', pos_weight=torch.tensor([pos_weight]))\n",
    "    #--- your code ends here\n",
    "    \n",
    "    return loss_fn"
   ]
  },
  {
   "cell_type": "markdown",
   "metadata": {
    "id": "greenhouse-adrian"
   },
   "source": [
    "For reference, your output should be:\n",
    "```\n",
    "BCEWithLogitsLoss()\n",
    "```"
   ]
  },
  {
   "cell_type": "code",
   "execution_count": null,
   "metadata": {
    "id": "separate-ladder"
   },
   "outputs": [],
   "source": [
    "# A5:SanityCheck\n",
    "\n",
    "get_loss_func()"
   ]
  },
  {
   "cell_type": "markdown",
   "metadata": {
    "id": "tough-generic"
   },
   "source": [
    "### 6. (2 pts) Build an Optimizer\n",
    "\n",
    "The final piece we need before writing our training loop is an optimizer. \n",
    "There are many to choose from, from [SGD](https://pytorch.org/docs/stable/optim.html#torch.optim.Adam) to [Adam](https://pytorch.org/docs/stable/optim.html#torch.optim.Adam). \n",
    "For this network, let's use an optimizer called [AdamW](https://pytorch.org/docs/stable/optim.html#torch.optim.AdamW), first proposed as an update to Adam in [Decoupling Weight Decay Regularization](https://arxiv.org/pdf/1711.05101.pdf). \n",
    "\n",
    "For this problem, complete the implementation of `get_opt()` which takes as input:\n",
    "- `module`: a PyTorch module (our network) that we'll be updating the parameters of.\n",
    "- `lr=0.001`: our desired learning rate\n",
    "- `wd=0.01`: our desired weight decay parameter\n",
    "\n",
    "Though AdamW is slightly more complex than, say, Adagrad, the use of it in PyTorch is not that different. Check out the documentation to make sure you're initializing the optimizer with the proper input parameters!"
   ]
  },
  {
   "cell_type": "code",
   "execution_count": null,
   "metadata": {
    "id": "large-shepherd"
   },
   "outputs": [],
   "source": [
    "# A6:Function(2/2)\n",
    "\n",
    "def get_opt(module, lr=0.001, wd=0.01):\n",
    "    # --- your code starts here\n",
    "\n",
    "    # --- your code ends here\n",
    "    return opt"
   ]
  },
  {
   "cell_type": "markdown",
   "metadata": {
    "id": "korean-jimmy"
   },
   "source": [
    "For reference, your output should be:\n",
    "\n",
    "```\n",
    "AdamW (\n",
    "Parameter Group 0\n",
    "    amsgrad: False\n",
    "    betas: (0.9, 0.999)\n",
    "    eps: 1e-08\n",
    "    lr: 0.001\n",
    "    weight_decay: 0.01\n",
    ")\n",
    "```"
   ]
  },
  {
   "cell_type": "code",
   "execution_count": null,
   "metadata": {
    "id": "funny-picnic"
   },
   "outputs": [],
   "source": [
    "# A6:SanityCheck\n",
    "\n",
    "get_opt(SimpleNet(embed_tensor))"
   ]
  },
  {
   "cell_type": "markdown",
   "metadata": {
    "id": "opposed-demographic"
   },
   "source": [
    "### 7. (4 pts) Train Function\n",
    "\n",
    "Your next task is to implement a train function. \n",
    "\n",
    "The train function will take as input:\n",
    "- `net`: A `torch.nn.Module` (e.g., a neural network)\n",
    "- `data`: Our dictionary of `torch.utils.data.Dataset` splits\n",
    "- `batch_size`: An integer corresponding to the training batch size \n",
    "- `loss_fn`: A loss function\n",
    "- `opt`: An optimizer \n",
    "- `verbose=True`: A flag that, if True, will print average batch loss every `print_every` steps (i.e., every `print_every` batches)\n",
    "- `test=False`: Another boolean flag that, when True, will cause this loop to exit after 10 batches. This is simply a flag that we'll use in our sanity checks!\n",
    "- `print_every=1000`: When `verbose=True`, this parameter controls how frequently this function prints a batch loss update.\n",
    "- `gpu=False`: When True, this flag will push all batch inputs to the GPU first (if it's available). **Don't set this to True if you aren't using a GPU**\n",
    "\n",
    "Specifically, you should add to this function the following:\n",
    "1. Zero out the gradients cached in the optimizer\n",
    "2. Feed the input through `net` to produce a prediction\n",
    "3. Evaluate this prediction against `y_gold` using `loss_fn` to generate a `loss`\n",
    "4. Backpropagate the `loss`\n",
    "5. Update the weights using the optimizer and its `step()` function"
   ]
  },
  {
   "cell_type": "code",
   "execution_count": null,
   "metadata": {
    "id": "impaired-lawyer"
   },
   "outputs": [],
   "source": [
    "# A7:Function(4/4)\n",
    "\n",
    "def train_simple(net, data, batch_size, loss_fn, opt, \n",
    "                 verbose=True, test=False, print_every=1000,\n",
    "                 gpu=False):\n",
    "    # initialize our batch loader\n",
    "    total_steps = len(data['train']) // batch_size + 1\n",
    "    loader = torch.utils.data.DataLoader(data['train'], batch_size=batch_size, shuffle=True)\n",
    "    \n",
    "    # enable training of our network\n",
    "    net.train()\n",
    "    \n",
    "    start = time.time()\n",
    "        \n",
    "    total_loss = 0\n",
    "    for step, batch in enumerate(loader):\n",
    "        if gpu:\n",
    "            # push all batch inputs to gpu\n",
    "            batch = {k: to_gpu(v) for k, v in batch.items()}\n",
    "\n",
    "        # prepare gold labels for loss eval\n",
    "        y_gold = batch['label'].float()\n",
    "        \n",
    "        #--- your code starts here\n",
    "\n",
    "        #--- your code ends here\n",
    "        \n",
    "        # accumulate total loss for logging\n",
    "        # Note that we are:\n",
    "        #   - Specifically placing this value on the CPU\n",
    "        #   - Detaching it from its gradient computation\n",
    "        #   - Calling .item(), which turns single element tensor into a scalar\n",
    "        total_loss += loss.cpu().detach().item()\n",
    "\n",
    "        # Print progress if verbose\n",
    "        if verbose and step % print_every == 0:\n",
    "            print(f'[{100 * step / total_steps:.3f}%] Step {step}/{total_steps}. Average Loss: {total_loss/(batch_size * (step + 1)):.6f}')\n",
    "\n",
    "        # Exit early if testing\n",
    "        if test and step > 10:\n",
    "            print(f'Total sanity loss: {total_loss:.2f}')\n",
    "            print(f'Total sanity time: {time.time() - start}')\n",
    "            break\n",
    "    \n",
    "    if verbose and not test: \n",
    "        print(f'Total epoch loss: {total_loss:.2f} (Avg. {total_loss / len(data[\"train\"]):.6f})')\n",
    "        print(f'Total train time: {time.time() - start}')\n",
    "    \n",
    "    return total_loss, net"
   ]
  },
  {
   "cell_type": "markdown",
   "metadata": {
    "id": "animal-journal"
   },
   "source": [
    "For reference, you should expect output _similar_ to:\n",
    "```\n",
    "Total sanity loss: 349.82\n",
    "```"
   ]
  },
  {
   "cell_type": "code",
   "execution_count": null,
   "metadata": {
    "id": "closed-present"
   },
   "outputs": [],
   "source": [
    "# A7:SanityCheck\n",
    "\n",
    "torch.manual_seed(A4_RAND_SEED)\n",
    "\n",
    "batch_size = 32\n",
    "pos_weight = 10\n",
    "\n",
    "net = SimpleNet(prepare_embedding(tokenizer))\n",
    "opt = get_opt(net)\n",
    "loss_fn = get_loss_func(pos_weight)\n",
    "\n",
    "torch.manual_seed(A4_RAND_SEED)\n",
    "\n",
    "loss, net = train_simple(net, data, batch_size, loss_fn, opt, test=True)"
   ]
  },
  {
   "cell_type": "markdown",
   "metadata": {
    "id": "documented-think"
   },
   "source": [
    "### 8. (4 pts) Eval Function\n",
    "\n",
    "Next, let's write a basic eval function. Much like our train, it will take batches of input and feed it through our network. \n",
    "\n",
    "Your task will be to complete the loop within the eval function:\n",
    "1. Feed input into the network to produce `y_preds` (a raw output, non-probablistic)\n",
    "2. Apply the loss function and store the loss in a variable `loss`!\n",
    "3. Apply a [sigmoid](https://pytorch.org/docs/stable/generated/torch.sigmoid.html) to transform raw predictions into probabilistic ones\n",
    "4. Use the `threshold` parameter to construct a binary mask for probabilistic predictions less than this value.\n",
    "5. Use your binary mask to set predictions above the threshold to 1 (positive prediction) and set those below to 0 (negative prediction).\n",
    "5. Accumulate the rounded predictions in `preds` and gold labels in `golds`. These will be used to produce an sklearn `classification_report`, which is what this function returns.\n",
    "\n",
    "Note: Before converting predictions into lists, you may need to call `.detach()` on a tensor if it has any gradient-based information associated with it! If you forget to do so, you may continue to accumulate gradient information (which can exhaust a GPU, if you're using one)."
   ]
  },
  {
   "cell_type": "code",
   "execution_count": null,
   "metadata": {
    "id": "worth-enough"
   },
   "outputs": [],
   "source": [
    "# A8:Function(4/4)\n",
    "\n",
    "def eval_simple(net, data, batch_size, loss_fn,\n",
    "                threshold=0.5,\n",
    "                split='validation', \n",
    "                verbose=True, test=False, print_every=1000, \n",
    "                gpu=False):\n",
    "    # initialize our batch loader\n",
    "    total_steps = len(data[split]) // batch_size + 1\n",
    "    loader = torch.utils.data.DataLoader(data[split], batch_size=batch_size, shuffle=True)\n",
    "    \n",
    "    # disable training... we're in the eval function!\n",
    "    net.eval()\n",
    "    \n",
    "    start = time.time()\n",
    "    \n",
    "    preds = []\n",
    "    golds = []\n",
    "    total_loss = 0\n",
    "    for step, batch in enumerate(loader):\n",
    "        if gpu:\n",
    "            # push all batch inputs to gpu\n",
    "            batch = {k: to_gpu(v) for k, v in batch.items()}\n",
    "\n",
    "        y_gold = batch['label'].float()\n",
    "        \n",
    "        #--- your code starts here\n",
    "\n",
    "        #--- your code ends here\n",
    "\n",
    "        # accumulate total loss for logging\n",
    "        # Note that we are:\n",
    "        #   - Specifically placing this value on the CPU\n",
    "        #   - Detaching it from its gradient computation\n",
    "        #   - Calling .item(), which turns single element tensor into a scalar\n",
    "        total_loss += loss.cpu().detach().item()\n",
    "\n",
    "        if verbose and step % print_every == 0:\n",
    "            print(f'[{100 * step / total_steps:.3f}%] Step {step}/{total_steps}.')\n",
    "\n",
    "        if test and step > 10:\n",
    "            break\n",
    "            \n",
    "    if verbose: \n",
    "        print(f'Total eval time: {time.time() - start}')\n",
    "    \n",
    "    return total_loss, classification_report(golds, preds, output_dict=True)"
   ]
  },
  {
   "cell_type": "markdown",
   "metadata": {
    "id": "narrow-salem"
   },
   "source": [
    "Using our net trained up for ~10 steps in the previous question, apply your evaluation and inspect your classifcation reports. Your performance on the validation set should be around (**Note**: These results are highly susceptible to random noise):\n",
    "\n",
    "```\n",
    "{'precision': 0.015151515151515152, 'recall': 0.25, 'f1-score': 0.028571428571428574, 'support': 4}\n",
    "```"
   ]
  },
  {
   "cell_type": "code",
   "execution_count": null,
   "metadata": {
    "id": "lightweight-concert"
   },
   "outputs": [],
   "source": [
    "# A8:SanityCheck\n",
    "\n",
    "torch.manual_seed(A4_RAND_SEED)\n",
    "\n",
    "split = 'validation'\n",
    "batch_size = 32\n",
    "pos_weight = 10\n",
    "\n",
    "loss_fn = get_loss_func(pos_weight)\n",
    "\n",
    "loss, rep = eval_simple(net, data, batch_size, loss_fn, split=split, test=True)\n",
    "print(rep['1.0'])"
   ]
  },
  {
   "cell_type": "markdown",
   "metadata": {
    "id": "filled-avenue"
   },
   "source": [
    "### 9. (5 pts) Putting It All Together\n",
    "\n",
    "We now have everything we need to perform a full training of a network. \n",
    "Your task now will be to put together all the pieces in a bundled up `experiment()` function, which takes the following as input:\n",
    "- `data`: Our dictionary of data splits\n",
    "- `d=256`: Our word embedding size\n",
    "- `hidden_dim=128`: The hyperparameter to shape the hidden size within our neural network\n",
    "- `pos_weight=10`: The weight to be assigned to the positive class through our loss function\n",
    "- `epochs=10`: The number of epochs to train for\n",
    "- `batch_size=32`: The training batch size\n",
    "- `lr=0.001`: The learning rate\n",
    "- `wd=0.01`: The weight decay rate\n",
    "- `net_class=SimpleNet`: A neural network constructor. This parameter is what you should use to construct a SimpleNet.\n",
    "- `train_fn=train_simple`: A function that takes your network and parameters and trains for a single epoch.\n",
    "- `eval_fn=eval_simple`: A function that evaluates on a split of the data.\n",
    "- `gpu=False`: A GPU flag that will be propagated to the train and eval function calls. Do not set this to True if you aren't using a GPU. \n",
    "\n",
    "Specifically, you should do the following:\n",
    "- Load a pre-trained embedding tensor using `prepare_embedding()` (A3)\n",
    "- Initialize a `SimpleNet` (A4) using `net_class`. Store this variable as `net`.\n",
    "- Initialize a weighted loss function using `pos_weight` (A5, `get_loss_func()`)\n",
    "- Initialize an optimizer connected to your initialized `SimpleNet` (A6, `get_opt()`)\n",
    "- Complete the remainder of the training for loop so that for each epoch, we:\n",
    "  - Run a train iteration and update our net. Store the updated net in the variable `net` and the training loss in `train_loss`.\n",
    "  - Run an eval iteration over the validation data. Store the loss in `val_loss` and the classification report in `report`.\n",
    "\n",
    "If you are using a GPU, be sure to push both your `net` and `loss_fn` to that device or else you will get errors!\n",
    "\n",
    "The remainder of the code will do some checking to see if we've improved our F1-score for the positive class and, if so, will save a model locally. If you're curious to know a bit more, see this awesome [beginner's guide to saving and loading models in PyTorch](https://pytorch.org/tutorials/beginner/saving_loading_models.html)."
   ]
  },
  {
   "cell_type": "code",
   "execution_count": null,
   "metadata": {
    "id": "tired-companion"
   },
   "outputs": [],
   "source": [
    "# A9:Function(5/5)\n",
    "\n",
    "def experiment(data, \n",
    "               d=256, hidden_dim=128, \n",
    "               pos_weight=10, epochs=10, batch_size=32,\n",
    "               lr=0.001, wd=0.01,\n",
    "               net_class=SimpleNet, train_fn=train_simple, eval_fn=eval_simple,\n",
    "               gpu=False):\n",
    "    torch.manual_seed(A4_RAND_SEED)\n",
    "    \n",
    "    # pull our tokenizer out of our Dataset object\n",
    "    tok = data['train'].tok\n",
    "    \n",
    "    #--- your code starts here\n",
    "    \n",
    "    #--- your code ends here\n",
    "    \n",
    "    best_val = -1 \n",
    "    best_val_loss = None\n",
    "    \n",
    "    # early stopping criteria\n",
    "    no_imp = 0\n",
    "    patience = 3  # number of epochs to keep training with no improvement\n",
    "    \n",
    "    for e in range(epochs):\n",
    "        \n",
    "        print('-' * 20)\n",
    "        print(f'Begin epoch {e+1}')\n",
    "        print('-' * 20)\n",
    "\n",
    "        #--- your code starts here\n",
    "\n",
    "        #--- your code ends here\n",
    "\n",
    "        # save model if we do better on F1!\n",
    "        if report['1.0']['f1-score'] > best_val:\n",
    "            torch.save(net, f'./data/{type(net) == SimpleNet}_{d}_{hidden_dim}_{pos_weight}_{batch_size}.pt')\n",
    "            best_val = report['1.0']['f1-score']\n",
    "\n",
    "            # reset early stopping var\n",
    "            no_imp = 0\n",
    "        else:\n",
    "            # no improvement...\n",
    "            no_imp += 1\n",
    "            print(f'No improvement observed for {no_imp} epochs.')\n",
    "\n",
    "        # saving best validation loss!\n",
    "        if best_val_loss is None or best_val_loss > val_loss:\n",
    "            best_val_loss = val_loss\n",
    "\n",
    "        # Early stopping switch! \n",
    "        # If no improvement occurs for several epochs, quit!\n",
    "        if no_imp >= patience:\n",
    "            print('Early stopping!')\n",
    "            break\n",
    "        \n",
    "        print()\n",
    "        print(f'Current train loss: {train_loss:.2f}')\n",
    "        print(f'Current validation loss: {val_loss:.2f}')\n",
    "        print(f'Current validation F1: {report[\"1.0\"][\"f1-score\"]:.4f} (Best: {best_val:.4f})')\n",
    "        print()"
   ]
  },
  {
   "cell_type": "code",
   "execution_count": null,
   "metadata": {
    "id": "coordinate-chuck"
   },
   "outputs": [],
   "source": [
    "# A9:SanityCheck\n",
    "\n",
    "# use this flag to enable/disable GPU if your system has it available!\n",
    "g = True\n",
    "\n",
    "experiment(data, gpu=g)"
   ]
  },
  {
   "cell_type": "markdown",
   "metadata": {
    "id": "Wq7aDqje_j8q"
   },
   "source": [
    "We can also check out our entire classification report for the train and validation splits by re-loading our best saved model:"
   ]
  },
  {
   "cell_type": "code",
   "execution_count": null,
   "metadata": {
    "id": "nervous-personality"
   },
   "outputs": [],
   "source": [
    "# use this flag to enable/disable GPU if your system has it available!\n",
    "g = True\n",
    "\n",
    "d = 256\n",
    "hidden_dim = 128\n",
    "pos_weight = 10\n",
    "batch_size = 32\n",
    "\n",
    "net = torch.load(f'./data/True_{d}_{hidden_dim}_{pos_weight}_{batch_size}.pt')\n",
    "\n",
    "for s in ['train', 'validation']:\n",
    "    print('-' * 20)\n",
    "    print(s)\n",
    "    print('-' * 20)\n",
    "    _, score = eval_simple(net, data, batch_size, to_gpu(get_loss_func(pos_weight)), split=s, verbose=False, gpu=g)\n",
    "    print('P:', score['1.0']['precision'])\n",
    "    print('R:', score['1.0']['recall'])\n",
    "    print('F1:', score['1.0']['f1-score'])\n",
    "    print()"
   ]
  },
  {
   "cell_type": "markdown",
   "metadata": {
    "id": "Y_M6o6WS0B-O"
   },
   "source": [
    "As a sanity check, you should expect that your model is able to attain a positive F1 of ~0.10!\n",
    "\n",
    "Specifically, you should expect something _similar_ to:\n",
    "\n",
    "```\n",
    "--------------------\n",
    "train\n",
    "--------------------\n",
    "P: 0.17169468290928183\n",
    "R: 0.33547994908911305\n",
    "F1: 0.22714118509562828\n",
    "\n",
    "--------------------\n",
    "validation\n",
    "--------------------\n",
    "P: 0.06649976529494601\n",
    "R: 0.19813519813519814\n",
    "F1: 0.09957825679475164\n",
    "```"
   ]
  },
  {
   "cell_type": "markdown",
   "metadata": {
    "id": "_luhG9S_0FYc"
   },
   "source": [
    "### Interlude\n",
    "\n",
    "Thus far, we've built out a reasonable first attempt for this conversational disentanglement task using a very simple neural network and just a set of pre-trained word embeddings. \n",
    "As qualified at the start of this assignment, this task is hard and we shouldn't expect to perform it perfectly with a simplistic approach (this is an open research task!). \n",
    "That said, we should feel fairly satisfied that thus far, our network appears to be doing \"reasonable\" things with such a simple architecture and feature set.\n",
    "\n",
    "Now that we've trained up a relatively simplistic feed-forward neural network, \n",
    "it's worth asking ourselves what a better model might look like.\n",
    "\n",
    "Consider our input into the network. What does it see as input? \n",
    "As input, we provide a sequence of types which are immediately embedded as word vectors. \n",
    "We then take that 2-dimensional tensor (matrix) and average it along its row dimension to produce a single vector representation of our post-reply pair. \n",
    "\n",
    "But wait a minute... that's just CBOW!\n",
    "\n",
    "If it's using a CBOW-like approach that also means that our network has no preference to word position (it's just a bag-o'-words)!\n",
    "Could there be more learning power harnassed from factoring in some positional information? \n",
    "What about the other metadata we know is associated with the task, like post times?\n",
    "How could we integrate those into the model?\n",
    "\n",
    "These next few questions will have you explore the relevance of this other information contained within the raw text\n",
    "as a learning signal for the task!"
   ]
  },
  {
   "cell_type": "markdown",
   "metadata": {
    "id": "whXXgWbZ0cpU"
   },
   "source": [
    "### 10. (4 pts) Implement a Position Embedding\n",
    "\n",
    "Let's start with creating a representation for positional information.\n",
    "As mentioned in the interlude, our word vectors do not explictly contain any positional information. \n",
    "While it's perfectly reasonable to think that our model _could_ learn to infer this information through correlations in word vector dimensions, \n",
    "is it reasonable to assume that our model will naturally just \"figure it out\"?\n",
    "\n",
    "One way of dealing with positional information in dense models like this one is to use something called a [position encoding](https://kazemnejad.com/blog/transformer_architecture_positional_encoding/) or a position embedding.\n",
    "This creates an embedding space that encodes information about how far apart two items in a sequence are from one another. \n",
    "When we add this information as an additional value (or vector of values) we are explictly telling our model that this information is relevant, \n",
    "instead of hoping it just infers it _if it is!_\n",
    "\n",
    "We could easily set up our model to learn a position embedding, however, \n",
    "if we're keeping our word vectors static, why not go with a static position embedding that has the properties we are looking for? \n",
    "In fact, in this question we'll implement a standard position embedding space used in modern Transformer models (to help them use the same kind of positional information we want here)!\n",
    "\n",
    "The position embedding we're going to use encodes positional information using sines and cosines. \n",
    "Given a position in the sequence $p$ and an even-latent dimension $k$, we will use a cosine function:\n",
    "\n",
    "$$\n",
    "e_{p, 2k} = \\cos{\\left(\\frac{p}{10000^{(2k / d)}}) \\right)}\n",
    "$$\n",
    "\n",
    "and for odd dimensions, we will use sine:\n",
    "\n",
    "$$\n",
    "e_{p, 2k + 1} = \\sin{\\left(\\frac{p}{10000^{(2k / d)}}) \\right)}\n",
    "$$\n",
    "\n",
    "Notice that the position information factors into this embedding as the numerator the sine argument. \n",
    "Additionally, our vector size $d$ and specific vector dimensionality $k$ factor in the exponent in the denominator of the sine argument.\n",
    "Why 10,000 in the denominator? The intuitive explanation is that this simply needs to be a large number so that when we take it to the $(2k/d)$ power, we'll get noticeably different denominators for our trigonometric functions. \n",
    "\n",
    "Your job is to complete the definition below. We've pre-computed the argument values that go into the cosine and sine functions for you (in PyTorch notation), so your job will be to finish the `prepare_position_embeddings()` function to:\n",
    "1. Update the even-indices of `pe` to be equal to the cosine of the `arg_vals`.\n",
    "2. Update the odd-indices of `pe` to be equal to the sine of the `arg_vals`.\n",
    "\n",
    "Hint: PyTorch has helpful `torch.cos` and `torch.sin` functions!"
   ]
  },
  {
   "cell_type": "code",
   "execution_count": null,
   "metadata": {
    "id": "lVclKiqU1sX8"
   },
   "outputs": [],
   "source": [
    "# A10:Function(4/4)\n",
    "\n",
    "def prepare_position_embeddings(seq_len=32, pos_dim=32):\n",
    "    pe = torch.zeros(seq_len, pos_dim)\n",
    "\n",
    "    position = torch.arange(0, seq_len).unsqueeze(1)\n",
    "    div_term = torch.exp(torch.arange(0, pos_dim, 2) *\n",
    "                         -(np.log(10000.0) / pos_dim))\n",
    "    arg_vals = position * div_term\n",
    "    \n",
    "    #--- your code starts here\n",
    "\n",
    "    #--- your code ends here\n",
    "    \n",
    "    return pe"
   ]
  },
  {
   "cell_type": "markdown",
   "metadata": {
    "id": "TrSb2CG61wqY"
   },
   "source": [
    "For reference, you should expect your (32, 32)-dimensional position embedding to look like:\n",
    "\n",
    "```\n",
    "(torch.Size([32, 32]),\n",
    " tensor([[ 1.0000e+00,  0.0000e+00,  1.0000e+00,  ...,  0.0000e+00,\n",
    "           1.0000e+00,  0.0000e+00],\n",
    "         [ 5.4030e-01,  8.4147e-01,  8.4601e-01,  ...,  3.1623e-04,\n",
    "           1.0000e+00,  1.7783e-04],\n",
    "         [-4.1615e-01,  9.0930e-01,  4.3146e-01,  ...,  6.3246e-04,\n",
    "           1.0000e+00,  3.5566e-04],\n",
    "         ...,\n",
    "         [-7.4806e-01, -6.6363e-01, -8.2537e-01,  ...,  9.1705e-03,\n",
    "           9.9999e-01,  5.1570e-03],\n",
    "         [ 1.5425e-01, -9.8803e-01, -3.9725e-01,  ...,  9.4867e-03,\n",
    "           9.9999e-01,  5.3348e-03],\n",
    "         [ 9.1474e-01, -4.0404e-01,  1.5322e-01,  ...,  9.8029e-03,\n",
    "           9.9998e-01,  5.5126e-03]]))\n",
    "```"
   ]
  },
  {
   "cell_type": "code",
   "execution_count": null,
   "metadata": {
    "id": "008-eb3R1w_C"
   },
   "outputs": [],
   "source": [
    "# A10:SanityCheck\n",
    "\n",
    "pe = prepare_position_embeddings()\n",
    "pe.size(), pe"
   ]
  },
  {
   "cell_type": "markdown",
   "metadata": {
    "id": "OA_42LcK2SRE"
   },
   "source": [
    "Run the following code, which will visualize your position embeddings, and verify that what you've produced looks like the following:"
   ]
  },
  {
   "cell_type": "markdown",
   "metadata": {
    "id": "SdYrCqbr3BRH"
   },
   "source": [
    "![download.png](data:image/png;base64,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)"
   ]
  },
  {
   "cell_type": "markdown",
   "metadata": {
    "id": "yo_nR9UJ2Y9I"
   },
   "source": [
    "Additionally, this visualization should help you understand **why** this is helpful to a model. \n",
    "From the depiction above, each line corrresponds to a dimension in our position embedding which varies across the positions (x-axis).\n",
    "The different wavelengths of the cosine and sine waves give very precise information \n",
    "about how far two items in a sequence are located from one another.\n",
    "It also does this in a manner that is consistent across training examples. \n",
    "\n",
    "Imagine: Even if we only know a few of the 32 input tokens to our network, a model could still intelligently fold some of this information together by using the positional information that it always has access to. In other words, position should (intuitively) give good grounding!"
   ]
  },
  {
   "cell_type": "code",
   "execution_count": null,
   "metadata": {
    "id": "UY2EUGj02TS-"
   },
   "outputs": [],
   "source": [
    "# A10:SanityCheck\n",
    "\n",
    "plt.figure(figsize=(15, 5))\n",
    "\n",
    "pe = prepare_position_embeddings()\n",
    "\n",
    "for i in range(4):\n",
    "    xs = list(range(32))\n",
    "    ys = pe[:, i]\n",
    "    plt.plot(xs, ys, label=f'dim {i}')\n",
    "    \n",
    "    plt.title('Position Embeddings')\n",
    "    plt.xlabel('Sequence Position')\n",
    "    plt.ylabel('Embedded Value')\n",
    "    plt.legend()\n",
    "    \n",
    "plt.show()"
   ]
  },
  {
   "cell_type": "markdown",
   "metadata": {
    "id": "p6mgytrJxi7Q"
   },
   "source": [
    "### 11. (6 pts) Enhance Dataset with Meta Information\n",
    "\n",
    "Your next task will be to enhance a `torch.utils.data.Dataset` object to include our new desired meta information.\n",
    "\n",
    "Specifically, we will integrate two pieces of information into our data model:\n",
    "* The time of messages. Does this affect reply behavior? Is there a learning signal there?\n",
    "* The positions of each token, which will be used to index into our position embedding. \n",
    "\n",
    "Your task, specifically, for this question is to complete the implementation of the `ConvoMetaData` class below. This class should operate identical to your previous class defintion of `ConvoData` (in A2), with the slight difference that the `__getitem__(item)` method will now return the following dictionary form:\n",
    "\n",
    "```\n",
    "{\n",
    "  'text1': torch.LongTensor([<encoded post_1 sequence here>]),\n",
    "  'text2': torch.LongTensor([<encoded post_2 sequence here>]),\n",
    "  'time1': time of post1,\n",
    "  'time2': time of post2,\n",
    "  'pe1': torch.LongTensor([integer sequence of positions (upto 32)]),\n",
    "  'pe2': torch.LongTensor([integer sequence of positions (upto 32)]),\n",
    "  'label': 0/1\n",
    "}\n",
    "```\n",
    "\n",
    "We'll be using these additional properties in an enhanced model (that specifically learns a time embedding!).\n",
    "\n",
    "In summary, your goal for this question is to:\n",
    "1. Reproduce your `ConvoData` implementation, but augment it further in the next few steps.\n",
    "2. Augment `__init__()` to construct the dictionary `self.post_time`. This can be built using a function (provided below) `get_time_index()` which takes the raw text from a post and returns a integer corresponding to $60h + m$, where $h$ is the hour timestamp and $m$ is the minute timestamp. A null timestamp (its not present) will produce an integer of $60 \\cdot 24$.\n",
    "  - This results in a total of $24 \\cdot 60 + 1$ unique time values which we will need to be aware of to create an embedding layer in our updated model\n",
    "3. Augment `__getitem__()` to return the new data form with `pos`, and `time`!"
   ]
  },
  {
   "cell_type": "code",
   "execution_count": null,
   "metadata": {
    "id": "PYzB0VEQFb8E"
   },
   "outputs": [],
   "source": [
    "# Use this function below!\n",
    "# It should look familiar from Chapter 2!\n",
    "\n",
    "def get_time_index(txt):\n",
    "    time_source = re.search(\"\\[(\\d\\d:\\d\\d)\\] <([^>]+)>\", txt)\n",
    "    if time_source:\n",
    "        time, _ = time_source.groups()\n",
    "        hr, mn = time.split(':')\n",
    "        hr = int(hr); mn = int(mn)\n",
    "    else:\n",
    "        hr = 24; mn = 0;\n",
    "\n",
    "    return hr * 60 + mn"
   ]
  },
  {
   "cell_type": "code",
   "execution_count": null,
   "metadata": {
    "id": "willing-network"
   },
   "outputs": [],
   "source": [
    "# A11:Class(6/6)\n",
    "\n",
    "class ConvoMetaData(torch.utils.data.Dataset):\n",
    "    \n",
    "    def __init__(self, tokenizer, thread, connections, split):\n",
    "        self.tok = tokenizer\n",
    "\n",
    "        # Dictionary that should map:\n",
    "        # post_id --> the raw post text, encoded by our tokenizer\n",
    "        self.encoded_posts = {}\n",
    "\n",
    "        # Dictionary that should map:\n",
    "        # post_id --> time_index as determined by get_time_index\n",
    "        self.post_time = {}\n",
    "\n",
    "        # List of the sampled positive/negative connection examples\n",
    "        # Elements have the form (post_id1, post_id2, 0/1)\n",
    "        self.connections = []\n",
    "\n",
    "        #--- your code starts here\n",
    "\n",
    "        #--- your code ends here\n",
    "    \n",
    "    def __len__(self):\n",
    "        #--- your code starts here\n",
    "\n",
    "        #--- your code ends here\n",
    "        \n",
    "        return length\n",
    "    \n",
    "    def __getitem__(self, item):\n",
    "        #--- your code starts here\n",
    "\n",
    "        #--- your code ends here\n",
    "        return x"
   ]
  },
  {
   "cell_type": "markdown",
   "metadata": {
    "id": "1TwszCgMHLKo"
   },
   "source": [
    "For reference, you should get as output:\n",
    "\n",
    "```\n",
    "Split: train\n",
    "Length of split: 2766993\n",
    "Item 0: {'text1': tensor([    4,    39,     2,   174,     3,     6,  2207,     5,    10,    44,\n",
    "          160,  4734,  1088,  3518,    25,    11,  5830,   832,    32,    47,\n",
    "        18791,    25,    17,   981,     0,     0,     0,     0,     0,     0,\n",
    "            0,     0]), 'text2': tensor([    4,    39,     2,   174,     3,     6,  2207,     5,    56,  1225,\n",
    "           56, 16458,    19,   416,   333,     0,     0,     0,     0,     0,\n",
    "            0,     0,     0,     0,     0,     0,     0,     0,     0,     0,\n",
    "            0,     0]), 'time1': 268, 'time2': 268, 'pe1': tensor([ 0,  1,  2,  3,  4,  5,  6,  7,  8,  9, 10, 11, 12, 13, 14, 15, 16, 17,\n",
    "        18, 19, 20, 21, 22, 23, 24, 25, 26, 27, 28, 29, 30, 31]), 'pe2': tensor([ 0,  1,  2,  3,  4,  5,  6,  7,  8,  9, 10, 11, 12, 13, 14, 15, 16, 17,\n",
    "        18, 19, 20, 21, 22, 23, 24, 25, 26, 27, 28, 29, 30, 31]), 'label': 1}\n",
    "--------------------------------------------------\n",
    "Split: validation\n",
    "Length of split: 150139\n",
    "Item 0: {'text1': tensor([   4,   43,    2,   83,    3,    6,  199,    5,    1,    2, 4987,    9,\n",
    "         108,   92,    0,    0,    0,    0,    0,    0,    0,    0,    0,    0,\n",
    "           0,    0,    0,    0,    0,    0,    0,    0]), 'text2': tensor([    4,    43,     2,    83,     3,     6,   199,     5,     1,     2,\n",
    "          128,   576,  1010, 16337,     0,     0,     0,     0,     0,     0,\n",
    "            0,     0,     0,     0,     0,     0,     0,     0,     0,     0,\n",
    "            0,     0]), 'time1': 680, 'time2': 680, 'pe1': tensor([ 0,  1,  2,  3,  4,  5,  6,  7,  8,  9, 10, 11, 12, 13, 14, 15, 16, 17,\n",
    "        18, 19, 20, 21, 22, 23, 24, 25, 26, 27, 28, 29, 30, 31]), 'pe2': tensor([ 0,  1,  2,  3,  4,  5,  6,  7,  8,  9, 10, 11, 12, 13, 14, 15, 16, 17,\n",
    "        18, 19, 20, 21, 22, 23, 24, 25, 26, 27, 28, 29, 30, 31]), 'label': 1}\n",
    "--------------------------------------------------\n",
    "Split: test\n",
    "Length of split: 191685\n",
    "Item 0: {'text1': tensor([   4,   78,    2,  133,    3,    6,  552,    5,    1,    2,   46,   20,\n",
    "          89,   59,   13,   74, 1920,   14,    0,    0,    0,    0,    0,    0,\n",
    "           0,    0,    0,    0,    0,    0,    0,    0]), 'text2': tensor([    4,    78,     2,   177,     3,     6,     1,     5,   552,     2,\n",
    "           10,    62,   115,    13,   606,   126,   793,   890,    21,  1299,\n",
    "            7,    16,   296,    56,   167,    60, 14883,     7,     0,     0,\n",
    "            0,     0]), 'time1': 1164, 'time2': 1166, 'pe1': tensor([ 0,  1,  2,  3,  4,  5,  6,  7,  8,  9, 10, 11, 12, 13, 14, 15, 16, 17,\n",
    "        18, 19, 20, 21, 22, 23, 24, 25, 26, 27, 28, 29, 30, 31]), 'pe2': tensor([ 0,  1,  2,  3,  4,  5,  6,  7,  8,  9, 10, 11, 12, 13, 14, 15, 16, 17,\n",
    "        18, 19, 20, 21, 22, 23, 24, 25, 26, 27, 28, 29, 30, 31]), 'label': 1}\n",
    "--------------------------------------------------\n",
    "```"
   ]
  },
  {
   "cell_type": "code",
   "execution_count": null,
   "metadata": {
    "id": "LK_saTVrHBzH"
   },
   "outputs": [],
   "source": [
    "# A11:SanityCheck\n",
    "\n",
    "splits = ['train', 'validation', 'test']\n",
    "meta_data = {key: ConvoMetaData(tokenizer, thread, connections, key) for key in splits}\n",
    "\n",
    "for split in splits:\n",
    "    print(f'Split: {split}')\n",
    "    print(f'Length of split: {len(meta_data[split])}')\n",
    "    print(f'Item 0: {meta_data[split][0]}')\n",
    "    print('-' * 50)"
   ]
  },
  {
   "cell_type": "markdown",
   "metadata": {
    "id": "5VLBU69hH7OT"
   },
   "source": [
    "### 12. (10 pts) Implement Enhanced Model\n",
    "\n",
    "To implement our enhanced model, first observe that we'll $2*3 = 6$ input variables now:\n",
    "* Tokens: $\\vec{t}_i = \\left[t_0, t_1, ..., t_{31}\\right],\\ \\vec{t}_i \\in \\mathbb{Z}^{s}$\n",
    "* Post Time: $u_i, u_i \\in \\mathbb{Z}$\n",
    "* Positions $\\vec{p}_i = \\left[0, 1, 2, 3, ..., 31\\right],\\ \\vec{p}_i \\in \\mathbb{Z}^{s}$\n",
    "\n",
    "(Recall: $s=32$, our sequence length).\n",
    "\n",
    "To begin, we'll want to fuse our position embedding and token embedding information into one \"mixed\" representation. \n",
    "To do so, we can first embed both our token and position vectors\n",
    "and then concatenate that information. Mathematically:\n",
    "$$E_{\\text{tok}, i} \\in \\mathbb{R}^{s \\times d_t}: E_{\\text{tok}, i} = \\text{Emb}_{\\text{tok}}(\\vec{t}_i)$$\n",
    "$$E_{\\text{pe}, i} \\in \\mathbb{R}^{s \\times d_p}: E_{\\text{pe}, i} = \\text{Emb}_{\\text{pe}}(\\vec{p}_i)$$\n",
    "$$\n",
    "E_i \\in \\mathbb{R}^{s \\times (d_p + d_t)}: E_i = \\text{concat}([E_{\\text{tok}, i};E_{\\text{pe}, i}])\n",
    "$$\n",
    "\n",
    "If we go ahead and flatten each embedding matrix $E_i$ into a vector $\\vec{e}_i$,\n",
    "we can use a linear layer to project our embeddings into a mixed-representation of a unique message:\n",
    "\n",
    "$$\\vec{z}_{0,i} = W_{\\text{mix}} \\vec{e}_i + \\vec{b}_{\\text{mix}},\\ W_{\\text{mix}} \\in \\mathbb{R}^{d_{\\text{mix}} \\times s(d_t + d_p)}, \\vec{b}_{\\text{mix}} \\in \\mathbb{R}^{d_{\\text{mix}}}$$\n",
    "\n",
    "$d_{\\text{mix}}$ is a free parameter, which we will select to be $d_{\\text{mix}}=64$.\n",
    "\n",
    "After applying this linear layer to both our embedded messages, we'll have two vectors $\\vec{z}_{0,1}$ and $\\vec{z}_{0,2}$. If we stack them, we can get a familiar $\\vec{z}_0$, which we can then apply a non-linear activation and a batch norm operation.\n",
    "\n",
    "$$\\vec{z}_0 = \\text{concat}([\\vec{z}_{0,1};\\vec{z}_{0,2}]),\\ \\vec{z}_0 \\in \\mathbb{R}^{2d_{\\text{mix}}}$$\n",
    "$$\\vec{h}_0 = f(\\vec{z}_0),\\ \\vec{h}_0 \\in \\mathbb{R}^{2d_{\\text{mix}}}$$\n",
    "$$\\vec{g}_0 = BN_{\\text{mix}}(\\vec{h}_0),\\ \\vec{g}_0 \\in \\mathbb{R}^{2d_{\\text{mix}}}$$\n",
    "\n",
    "As before, let's use a ReLU non-linearity: $f = \\text{ReLU}$.\n",
    "\n",
    "With a latent representation of our two messages, let's go ahead \n",
    "and embed our two time inputs,\n",
    "and concatenate them into a new complex vector:\n",
    "\n",
    "$$\\vec{e}_{\\text{time}, i} \\in \\mathbb{R}^{d_u}: \\vec{e}_{\\text{time}, i} = \\text{Emb}_{\\text{time}}(u_i)$$\n",
    "$$\\vec{x}_0 = \\text{concat}([\\vec{g}_0, \\vec{e}_{\\text{time}, 1}, \\vec{e}_{\\text{time}, 2}]),\\ \\vec{x}_0 \\in \\mathbb{R}^{2d_{\\text{mix}} + 2d_u}$$\n",
    "\n",
    "Next, we'll fold together this latent message plus time information \n",
    "using a familiar computational pipeline:\n",
    "\n",
    "$$\n",
    "\\vec{z}_1 = W_1 \\vec{x}_0 + \\vec{b}_1,\\ W_1 \\in \\mathbb{R}^{d_0 \\times (2d_{\\text{mix}} + 2d_u)}\n",
    "$$\n",
    "\n",
    "$$\n",
    "\\vec{h}_1 = f(\\vec{z}_1)\n",
    "$$\n",
    "\n",
    "$$\n",
    "\\vec{g}_1 = \\text{BN}_{1}(\\vec{h}_1)\n",
    "$$\n",
    "\n",
    "$$\n",
    "\\hat{y} = W_2 \\vec{g}_1 + b_2,\\ W_2 \\in \\mathbb{R}^{1 \\times d_0}\n",
    "$$\n",
    "\n",
    "If you're more visually inclined, see the reference network schematic shown below!"
   ]
  },
  {
   "cell_type": "markdown",
   "metadata": {
    "id": "AYhENXMsdqmr"
   },
   "source": [
    "![enhanced.png](data:image/png;base64,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)"
   ]
  },
  {
   "cell_type": "markdown",
   "metadata": {
    "id": "-4F8PM_3dqTl"
   },
   "source": [
    "You should notice there are several hyper parameters that are critical for our network's architecture:\n",
    "* Embedding sizes: $d_t = 256, d_p = 32, d_u = 4$\n",
    "* Latent representation sizes: $d_\\text{mix} = 64$ and $d_0=128$\n",
    "\n",
    "Furthermore, you should observe that we'll have the following layers:\n",
    "* Three embeddings:\n",
    "  * A __frozen__ word embedding\n",
    "  * A __frozen__ position embedding\n",
    "  * A trainable time embedding\n",
    "* Three linear layers: \n",
    "  * one for mixing token and position information \n",
    "  * one for mixing all message and time information\n",
    "  * one for final prediction\n",
    "* An activation layer (which will be used twice). The activation is ReLU.\n",
    "* Two batch normalization layers:\n",
    "  * one after mixing token and position information\n",
    "  * another after mixing messages and time\n",
    "\n",
    "Your task is to take this mathematical information and finish the implementation of `EnhancedNet` below.\n",
    "\n",
    "Specifically, you should add to the `__init__()` method:\n",
    "- A token embedding layer using `torch.nn.Embedding.from_pretrained` and the `embed_tensor` argument. Remember to set `freeze=True`.\n",
    "- A position embedding layer using `torch.nn.Embedding.from_pretrained` and the `pe` given to you above where your code begins. Again, `freeze=True`!\n",
    "- A time embedding layer, which will be trainable. There should be $24 * 60 + 1$ input dimensions! Using `time_dim` from the input arguments as the embedding dimension size.\n",
    "- A linear layer for mixing cross-embedding information that goes from `seq_len * tok_dim` to `mixed_dim`\n",
    "- A ReLU activation layer \n",
    "- A BatchNorm1d layer with `2 * mixed_dim` params \n",
    "- Another linear layer going from `2 (mixed_dim + time_dim)` to `hidden_dim`\n",
    "- Another BatchNorm1d layer with `hidden_dim` params\n",
    "- A final linear, prediction layer mapping from `hidden_dim` to 1\n",
    "\n",
    "You'll only need 1 ReLU activation layer, which you can use both times in your implementation of `.forward()`.\n",
    "\n",
    "To complete the implementation, apply the constructed layers and feed the input parameters through your layers per the mathematical description above!"
   ]
  },
  {
   "cell_type": "code",
   "execution_count": null,
   "metadata": {
    "id": "k7_RUd3vHKfk"
   },
   "outputs": [],
   "source": [
    "# A12:Class(10/10)\n",
    "\n",
    "class EnhancedNet(torch.nn.Module):\n",
    "    \n",
    "    def __init__(self, embed_tensor, mixed_dim=64, hidden_dim=128, seq_len=32, time_dim=8):\n",
    "        super(EnhancedNet, self).__init__()\n",
    "        torch.manual_seed(A4_RAND_SEED)\n",
    "        \n",
    "        # construct a position embedding matrix\n",
    "        pe = prepare_position_embeddings()\n",
    "\n",
    "        p_dim = pe.size(1)  # get the position embed dimension\n",
    "        word_dim = embed_tensor.size(1)  # get the token embed dimension\n",
    "        tok_dim = p_dim + word_dim  # tok dim is the full position and type\n",
    "\n",
    "        #--- your code starts here\n",
    "  \n",
    "        #--- your code ends here\n",
    "        \n",
    "    def forward(self, t1, t2, u1, u2, p1, p2):\n",
    "        #--- your code starts here\n",
    "\n",
    "        #--- your code ends here\n",
    "        \n",
    "        # your final result should be a tensor \n",
    "        # of size (B, 1)\n",
    "        # where B is the batch size...\n",
    "        # We should squeeze this to get rid \n",
    "        # of the singular dimension in the last axis\n",
    "        y_pred = y_pred.squeeze(-1)\n",
    "        \n",
    "        return y_pred"
   ]
  },
  {
   "cell_type": "markdown",
   "metadata": {
    "id": "RTI3O57o-TMP"
   },
   "source": [
    "For reference, you should something similar to the following as your sanity check:\n",
    "\n",
    "```\n",
    "Network architecture: \n",
    "EnhancedNet(\n",
    "  (tok_embed): Embedding(20002, 256)\n",
    "  (pe_embed): Embedding(32, 32)\n",
    "  (time_embed): Embedding(1441, 8)\n",
    "  (linear_mixed): Linear(in_features=9216, out_features=64, bias=True)\n",
    "  (bn_mixed): BatchNorm1d(128, eps=1e-05, momentum=0.1, affine=True, track_running_stats=True)\n",
    "  (act): ReLU()\n",
    "  (linearh): Linear(in_features=144, out_features=128, bias=True)\n",
    "  (bnh): BatchNorm1d(128, eps=1e-05, momentum=0.1, affine=True, track_running_stats=True)\n",
    "  (pred): Linear(in_features=128, out_features=1, bias=True)\n",
    ")\n",
    "\n",
    "Test data point: \n",
    "tensor([0.1674], grad_fn=<SqueezeBackward1>)\n",
    "```"
   ]
  },
  {
   "cell_type": "code",
   "execution_count": null,
   "metadata": {
    "id": "L6gxtB6mO04c"
   },
   "outputs": [],
   "source": [
    "# A12:SanityCheck\n",
    "\n",
    "net = EnhancedNet(prepare_embedding(tokenizer))\n",
    "print('Network architecture: ')\n",
    "print(net)\n",
    "print()\n",
    "\n",
    "net.eval()\n",
    "print('Test data point: ')\n",
    "x = meta_data['train'][0]\n",
    "print(net(x['text1'].unsqueeze(0), x['text2'].unsqueeze(0), \n",
    "          torch.LongTensor([x['time1']]), torch.LongTensor([x['time2']]),\n",
    "          x['pe1'].unsqueeze(0), x['pe2'].unsqueeze(0)\n",
    "          ))\n",
    "print()"
   ]
  },
  {
   "cell_type": "markdown",
   "metadata": {
    "id": "-83qn2sBRWRK"
   },
   "source": [
    "### 13. (5 pts) Enhanced Train Loop\n",
    "\n",
    "Next, you should adapt the training loop we previously wrote for our `SimpleNet` class. \n",
    "Your solution to this question should look _almost identical_ to the previous question, however, here, you need to pay special attention to the four input tensors that we wish to give to the network!"
   ]
  },
  {
   "cell_type": "code",
   "execution_count": null,
   "metadata": {
    "id": "Y9joZlH3PG86"
   },
   "outputs": [],
   "source": [
    "# A13:Function(5/5)\n",
    "def train_enhanced(net, data, batch_size, loss_fn, opt, \n",
    "                   verbose=True, test=False, print_every=1000,\n",
    "                   gpu=False):\n",
    "    # initialize our batch loader\n",
    "    total_steps = len(data['train']) // batch_size + 1\n",
    "    loader = torch.utils.data.DataLoader(data['train'], batch_size=batch_size, shuffle=True)\n",
    "    \n",
    "    # enable training of our network\n",
    "    net.train()\n",
    "    \n",
    "    start = time.time()\n",
    "        \n",
    "    total_loss = 0\n",
    "    for step, batch in enumerate(loader):\n",
    "        if gpu:\n",
    "            # push all batch inputs to gpu\n",
    "            batch = {k: to_gpu(v) for k, v in batch.items()}\n",
    "\n",
    "        # prepare gold labels for loss eval\n",
    "        y_gold = batch['label'].float()\n",
    "        \n",
    "        #--- your code starts here\n",
    "\n",
    "        #--- your code ends here\n",
    "        \n",
    "        # accumulate total loss for logging\n",
    "        total_loss += loss.detach().cpu().item()\n",
    "\n",
    "        if verbose and step % print_every == 0:\n",
    "            print(f'[{100 * step / total_steps:.3f}%] Step {step}/{total_steps}. Average Loss: {total_loss / (batch_size * (step + 1)):.6f}')\n",
    "\n",
    "        if test and step > 10:\n",
    "            print(f'Total sanity loss: {total_loss:.2f}')\n",
    "            print(f'Total sanity time: {time.time() - start}')\n",
    "            break\n",
    "\n",
    "    \n",
    "    if verbose and not test: \n",
    "        print(f'Total epoch loss: {total_loss:.2f} (Avg. {total_loss / len(data[\"train\"]):.6f})')\n",
    "        print(f'Total train time: {time.time() - start}')\n",
    "    \n",
    "    return total_loss, net"
   ]
  },
  {
   "cell_type": "markdown",
   "metadata": {
    "id": "Rwo-HkZwPYMx"
   },
   "source": [
    "As a sanity check, you should expect an output similar to:\n",
    "```\n",
    "Total sanity loss: 350.92\n",
    "```"
   ]
  },
  {
   "cell_type": "code",
   "execution_count": null,
   "metadata": {
    "id": "k__OEAy8RpUl"
   },
   "outputs": [],
   "source": [
    "# A13:SanityCheck\n",
    "\n",
    "torch.manual_seed(A4_RAND_SEED)\n",
    "\n",
    "batch_size = 32\n",
    "pos_weight = 10\n",
    "\n",
    "net = EnhancedNet(prepare_embedding(tokenizer))\n",
    "opt = get_opt(net)\n",
    "loss_fn = get_loss_func(pos_weight)\n",
    "\n",
    "loss, net = train_enhanced(net, meta_data, batch_size, loss_fn, opt, test=True)"
   ]
  },
  {
   "cell_type": "markdown",
   "metadata": {
    "id": "vo-UAWvrTE1o"
   },
   "source": [
    "### 14. (5 pts) Enhanced Eval Loop\n",
    "\n",
    "Like with the previous adaptation, adapt the evaluation function you previously wrote. Like before, this adaptation should be _almost identical_ to what you previously wrote. Again, pay mind to the input tensors you supply to your network!"
   ]
  },
  {
   "cell_type": "code",
   "execution_count": null,
   "metadata": {
    "id": "x08J8MERRzpp"
   },
   "outputs": [],
   "source": [
    "# A14:Function(5/5)\n",
    "def eval_enhanced(net, data, batch_size, loss_fn, \n",
    "                  threshold=0.5,\n",
    "                  split='validation', \n",
    "                  verbose=True, test=False, print_every=1000,\n",
    "                  gpu=False):\n",
    "    # initialize our batch loader\n",
    "    total_steps = len(data[split]) // batch_size + 1\n",
    "    loader = torch.utils.data.DataLoader(data[split], batch_size=batch_size, shuffle=True)\n",
    "    \n",
    "    # disable training... we're in the eval function!\n",
    "    net.eval()\n",
    "    \n",
    "    start = time.time()\n",
    "    \n",
    "    preds = []\n",
    "    golds = []\n",
    "    total_loss = 0\n",
    "    for step, batch in enumerate(loader):\n",
    "        if gpu:\n",
    "            # push all batch inputs to gpu\n",
    "            batch = {k: to_gpu(v) for k, v in batch.items()}\n",
    "\n",
    "        y_gold = batch['label'].float()\n",
    "        \n",
    "        #--- your code starts here\n",
    "\n",
    "        #--- your code ends here\n",
    "\n",
    "        total_loss += loss.detach().cpu().item()\n",
    "\n",
    "        if verbose and step % print_every == 0:\n",
    "            print(f'[{100 * step / total_steps:.3f}%] Step {step}/{total_steps}.')\n",
    "\n",
    "        if test and step > 10:\n",
    "            break\n",
    "            \n",
    "    if verbose: \n",
    "        print(f'Total eval time: {time.time() - start}')\n",
    "    \n",
    "    return total_loss, classification_report(golds, preds, output_dict=True)"
   ]
  },
  {
   "cell_type": "markdown",
   "metadata": {
    "id": "4KFE8mq6Pq0I"
   },
   "source": [
    "For reference, you should expect a sanity check output similar to:\n",
    "```\n",
    "{'precision': 0.010416666666666666, 'recall': 1.0, 'f1-score': 0.020618556701030924, 'support': 4}\n",
    "```"
   ]
  },
  {
   "cell_type": "code",
   "execution_count": null,
   "metadata": {
    "id": "ZEcDjsdZTSf4"
   },
   "outputs": [],
   "source": [
    "# A14:SanityCheck\n",
    "torch.manual_seed(A4_RAND_SEED)\n",
    "\n",
    "split = 'validation'\n",
    "batch_size = 32\n",
    "pos_weight = 10\n",
    "\n",
    "loss, rep = eval_enhanced(net, meta_data, batch_size, get_loss_func(pos_weight), split=split, test=True)\n",
    "print(rep['1.0'])"
   ]
  },
  {
   "cell_type": "markdown",
   "metadata": {
    "id": "gi5crQMTUE_F"
   },
   "source": [
    "#### Train Up an EnhancedNet\n",
    "\n",
    "As a final sanity check for this implemenation, run the next cell, which should be able to leverage your previous solution in A9 `experiment()`, to train and cache our best `EnhancedNet`."
   ]
  },
  {
   "cell_type": "code",
   "execution_count": null,
   "metadata": {
    "id": "df_-dj-STaXJ"
   },
   "outputs": [],
   "source": [
    "# A14:SanityCheck\n",
    "\n",
    "# use this flag to enable/disable GPU if your system has it available!\n",
    "g = True\n",
    "\n",
    "experiment(meta_data, net_class=EnhancedNet, train_fn=train_enhanced, eval_fn=eval_enhanced, gpu=g)"
   ]
  },
  {
   "cell_type": "markdown",
   "metadata": {
    "id": "FtplvZNgF4EC"
   },
   "source": [
    "We can also verify our final validation performance by re-loading the best cached model:\n",
    "\n",
    "```\n",
    "--------------------\n",
    "train\n",
    "--------------------\n",
    "P: 0.17854120618882222\n",
    "R: 0.5370718641363196\n",
    "F1: 0.2679924736126185\n",
    "\n",
    "--------------------\n",
    "validation\n",
    "--------------------\n",
    "P: 0.07144313086017122\n",
    "R: 0.32680652680652683\n",
    "F1: 0.11725349167851468\n",
    "```"
   ]
  },
  {
   "cell_type": "code",
   "execution_count": null,
   "metadata": {
    "id": "b0YulvGjjLTc"
   },
   "outputs": [],
   "source": [
    "# A14:SanityCheck\n",
    "\n",
    "# use this flag to enable/disable GPU if your system has it available!\n",
    "g = True\n",
    "\n",
    "d = 256\n",
    "hidden_dim = 128\n",
    "pos_weight = 10\n",
    "batch_size = 32\n",
    "\n",
    "net = torch.load(f'./data/False_{d}_{hidden_dim}_{pos_weight}_{batch_size}.pt')\n",
    "\n",
    "for s in ['train', 'validation']:\n",
    "    print('-' * 20)\n",
    "    print(s)\n",
    "    print('-' * 20)\n",
    "    _, score = eval_enhanced(net, meta_data, batch_size, to_gpu(get_loss_func()), split=s, verbose=False, gpu=g)\n",
    "    print('P:', score['1.0']['precision'])\n",
    "    print('R:', score['1.0']['recall'])\n",
    "    print('F1:', score['1.0']['f1-score'])\n",
    "    print()"
   ]
  },
  {
   "cell_type": "markdown",
   "metadata": {
    "id": "zv4XSSV9AqbX"
   },
   "source": [
    "#### Comparing Our Two Models\n",
    "\n",
    "Now's the time to compare our two models against one another on the test set. \n",
    "\n",
    "Before we do, let's also tune another parameter: The positive prediction threshold. Until now, we've held that at a constante `threshold=0.5`. However, our dataset is highly imbalanced, so perhaps we should tune this on the validation set? Let's evaluate each model on the validation set at threshold steps of `0.05`.\n",
    "\n",
    "Run the next cell to obtain your best validation thresholds (for both models) and observe the final output of evaluation on the three dataset splits."
   ]
  },
  {
   "cell_type": "code",
   "execution_count": null,
   "metadata": {
    "id": "QSsmoPRzi91K"
   },
   "outputs": [],
   "source": [
    "# A14:SanityCheck\n",
    "\n",
    "# gpu flag\n",
    "g = True\n",
    "\n",
    "d = 256\n",
    "hidden_dim = 128\n",
    "pos_weight = 5\n",
    "batch_size = 32\n",
    "\n",
    "loss_fn = to_gpu(get_loss_func(pos_weight))\n",
    "\n",
    "simple = torch.load(f'./data/True_{d}_{hidden_dim}_{pos_weight}_{batch_size}.pt')\n",
    "enhanced = torch.load(f'./data/False_{d}_{hidden_dim}_{pos_weight}_{batch_size}.pt')\n",
    "\n",
    "simple_thresh = 0; best_simple = 0\n",
    "enhanced_thresh = 0; best_enhanced = 0\n",
    "\n",
    "for i in range(1, 20):\n",
    "    thresh = i / 20\n",
    "    print(f'Checking threshold={thresh}')\n",
    "    _, score = eval_simple(simple, data, batch_size, loss_fn, split='validation', threshold=thresh, verbose=False, gpu=g)\n",
    "    if score['1.0']['f1-score'] > best_simple:\n",
    "        best_simple = score['1.0']['f1-score']\n",
    "        simple_thresh = thresh\n",
    "        print('Better threshold identified.')\n",
    "        print(f'Current simple validation: {best_simple}')\n",
    "    \n",
    "    _, score = eval_enhanced(enhanced, meta_data, batch_size, loss_fn, split='validation', threshold=thresh, verbose=False, gpu=g)\n",
    "    if score['1.0']['f1-score'] > best_enhanced:\n",
    "        best_enhanced = score['1.0']['f1-score']\n",
    "        enhanced_thresh = thresh\n",
    "        print('Better threshold identified.')\n",
    "        print(f'Current enhanced validation: {best_enhanced}')\n",
    "\n",
    "\n",
    "print('-' * 20)\n",
    "print('Simple Model Test Performance')\n",
    "print('-' * 20)\n",
    "for s in ['train', 'validation', 'test']:\n",
    "    print('-' * 20)\n",
    "    print(s)\n",
    "    print('-' * 20)\n",
    "    _, score = eval_simple(simple, data, batch_size, loss_fn, split=s, threshold=simple_thresh, verbose=False, gpu=g)\n",
    "    print('P:', score['1.0']['precision'])\n",
    "    print('R:', score['1.0']['recall'])\n",
    "    print('F1:', score['1.0']['f1-score'])\n",
    "    print()\n",
    "\n",
    "print('-' * 20)\n",
    "print('Enhanced Model Test Performance')\n",
    "print('-' * 20)\n",
    "for s in ['train', 'validation', 'test']:\n",
    "    print('-' * 20)\n",
    "    print(s)\n",
    "    print('-' * 20)\n",
    "    _, score = eval_enhanced(enhanced, meta_data, batch_size, loss_fn, split=s, threshold=enhanced_thresh, verbose=False, gpu=g)\n",
    "    print('P:', score['1.0']['precision'])\n",
    "    print('R:', score['1.0']['recall'])\n",
    "    print('F1:', score['1.0']['f1-score'])\n",
    "    print()"
   ]
  },
  {
   "cell_type": "markdown",
   "metadata": {
    "id": "5Mr0_YUQItvm"
   },
   "source": [
    "As luck would have it, our 0.5 threshold seemed to be pretty decent, though our enhanced should have a slightly adjusted threshold!\n",
    "\n",
    "You should anticipate results, for both models, to be in the \"ballpark\" of:\n",
    "\n",
    "```\n",
    "--------------------\n",
    "Simple Model Test Performance\n",
    "--------------------\n",
    "--------------------\n",
    "train\n",
    "--------------------\n",
    "P: 0.17169468290928183\n",
    "R: 0.33547994908911305\n",
    "F1: 0.22714118509562828\n",
    "\n",
    "--------------------\n",
    "validation\n",
    "--------------------\n",
    "P: 0.06649976529494601\n",
    "R: 0.19813519813519814\n",
    "F1: 0.09957825679475164\n",
    "\n",
    "--------------------\n",
    "test\n",
    "--------------------\n",
    "P: 0.11726254002134472\n",
    "R: 0.20609613130128956\n",
    "F1: 0.14947708528186376\n",
    "\n",
    "--------------------\n",
    "Enhanced Model Test Performance\n",
    "--------------------\n",
    "--------------------\n",
    "train\n",
    "--------------------\n",
    "P: 0.22718854580702458\n",
    "R: 0.3984916699910716\n",
    "F1: 0.2893898216231876\n",
    "\n",
    "--------------------\n",
    "validation\n",
    "--------------------\n",
    "P: 0.08856868395773294\n",
    "R: 0.21491841491841493\n",
    "F1: 0.1254421768707483\n",
    "\n",
    "--------------------\n",
    "test\n",
    "--------------------\n",
    "P: 0.14508801817149347\n",
    "R: 0.2396248534583822\n",
    "F1: 0.18074100274117957\n",
    "```\n",
    "\n",
    "Which seems to suggest that our simple model is still _extremely competitve_ to our enhanced model.\n",
    "\n",
    "Does that mean we did extra development for naught? Not at all. \n",
    "We'll discuss this more (below), but these networks we've trained up have be trained for (relatively) little training time. \n",
    "However, in our small-scoped experimentation with limited hyperparameters used, this is what we've found!\n",
    "\n",
    "In fact, if you pay attention to the precision and recall, we can see that our enhanced model has much better recall. This is important to note as it gives us a direction we could move in beyond this assignment: Figuring out what is needed to increase the precision!"
   ]
  },
  {
   "cell_type": "markdown",
   "metadata": {
    "id": "DsvF6GwtAunT"
   },
   "source": [
    "### 15. (2 pts) EDA: Time Embedding\n",
    "\n",
    "One of things we implemented in our model was a time embedding. \n",
    "Our intuition for doing so was that the model\n",
    "may be able to identify time-related features\n",
    "that are useful for determining if two posts should be linked. \n",
    "\n",
    "In this next question, we'll investigate this assumption by probing our model.\n",
    "\n",
    "Specifically, we will be investigating the following hypothesis:\n",
    "* There exists a time delta, between pairs of posts, where _something_ happens.\n",
    "* That is to say, there is a sweet spot (in terms of a time delta) where a model \"lights up\" for positive classification.\n",
    "\n",
    "How should we investigate this idea?\n",
    "\n",
    "One way we can do this is to feed our model all pad tokens and default positional information, but vary the time delta between posts. \n",
    "In other words:\n",
    "* Pick a start time $t_1 \\in [0..1439]$ (ignoring the null time) \n",
    "* Select a time delta $\\delta \\in [0..59]$. We will cap this at 60 since we've trained our model on 60-minute time horizons.\n",
    "* Compute an end time $t_2 = t_1 + \\delta \\mod 1440$. We need to use the modulus operation to exhibit the cyclic pattern of time.\n",
    "* Use $t_1,t_2$ to construct a \"null\" input (default position and all pad tokens). \n",
    "* Feed the \"null\" input to the model and observe its prediction value\n",
    "\n",
    "Essentially, what we'll be hunting for is whether there exists a specific $\\delta$ that exhibits some sort of positive prediction power. \n",
    "We can average across different starting time points to see if this property exhibits any invariance with respect to the starting position in time.\n",
    "\n",
    "Your goal will be to complete the `probe_time` function by creating input variables `u1` and `u2` (for time).\n",
    "For each starting time, we will be creating a batch of 60 inputs (one for every time delta). These inputs will then be fed to the model, alongside the null inputs for tokens and positions (that we've already initialized for you). \n",
    "\n",
    "Specifically, you should:\n",
    "* Create `u1`, a `(60, 32)` LongTensor of the same starting time\n",
    "* Create `u2`, a `(60, 32)` LongTensor that is an offset of `u1` by the `[0..59]` different time deltas. Some possible intermediate steps:\n",
    "  * Creation of a timedelta tensor that has these offsets \n",
    "  * The application of `torch.fmod` to apply a modulus operation\n",
    "\n",
    "Once you've completed this implementation, we can run our exploratory inspection as a sanity check and observe possible positive prediction!"
   ]
  },
  {
   "cell_type": "code",
   "execution_count": null,
   "metadata": {
    "id": "dnAxyY0iINr2"
   },
   "outputs": [],
   "source": [
    "# A15:Function\n",
    "\n",
    "def probe_time(model, start_time, gpu=False):\n",
    "    # null text\n",
    "    t1 = torch.zeros((60, 32), dtype=torch.long)\n",
    "    t2 = torch.zeros((60, 32), dtype=torch.long)\n",
    "    \n",
    "    # regular position\n",
    "    p1 = torch.LongTensor(list(range(32)))\n",
    "    p1 = torch.stack(60 * [p1], dim=0)\n",
    "    p2 = torch.LongTensor(p1)\n",
    "    \n",
    "    #--- your code starts here\n",
    "\n",
    "    #--- your code ends here\n",
    "\n",
    "    # squeezing out any singular dimensions\n",
    "    u1 = u1.squeeze()\n",
    "    u2 = u2.squeeze()\n",
    "\n",
    "    if gpu:\n",
    "        t1 = to_gpu(t1)\n",
    "        t2 = to_gpu(t2)\n",
    "        p1 = to_gpu(p1)\n",
    "        p2 = to_gpu(p2)\n",
    "        u1 = to_gpu(u1)\n",
    "        u2 = to_gpu(u2)\n",
    "    \n",
    "    y_pred = model(t1, t2, u1, u2, p1, p2)\n",
    "    y_pred = y_pred.detach().cpu().numpy()\n",
    "\n",
    "    return y_pred"
   ]
  },
  {
   "cell_type": "markdown",
   "metadata": {
    "id": "y_RW0G6KtAh4"
   },
   "source": [
    "For reference, the following sanity check should give you a figure similar to:"
   ]
  },
  {
   "cell_type": "markdown",
   "metadata": {
    "id": "gRLdPiwbtEPt"
   },
   "source": [
    "![download.png](data:image/png;base64,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)"
   ]
  },
  {
   "cell_type": "markdown",
   "metadata": {
    "id": "Bgn9hcUCtVs-"
   },
   "source": [
    "Which seems to imply a positive prediction incurred when the times are the same. Even more interesting is the slight dip after the 1st minute, which then seems to pop back up in the first few nearby minutes!\n",
    "\n",
    "Verify below that your model produces something similar:"
   ]
  },
  {
   "cell_type": "code",
   "execution_count": null,
   "metadata": {
    "id": "WVdz8VxeJi-C"
   },
   "outputs": [],
   "source": [
    "# A15:SanityCheck\n",
    "\n",
    "# GPU flag!\n",
    "g = True\n",
    "\n",
    "plt.figure(figsize=(25, 10))\n",
    "\n",
    "d = 256\n",
    "hidden_dim = 128\n",
    "pos_weight = 5\n",
    "batch_size = 32\n",
    "\n",
    "enhanced = torch.load(f'./data/False_{d}_{hidden_dim}_{pos_weight}_{batch_size}.pt')\n",
    "\n",
    "delta_scores = [[] for _ in range(60)]\n",
    "for s in range(1440):\n",
    "    if s % 100 == 0:\n",
    "        print('Start index:', s)\n",
    "\n",
    "    scores = probe_time(enhanced, s, gpu=g)\n",
    "    for ix, s in enumerate(scores):\n",
    "        delta_scores[ix].append(s)\n",
    "\n",
    "box_plot_data = [delta_scores[d] for d in range(60)]\n",
    "\n",
    "plt.boxplot(box_plot_data)\n",
    "\n",
    "plt.show()"
   ]
  },
  {
   "cell_type": "markdown",
   "metadata": {
    "id": "m4-NZi0nJ0Q6"
   },
   "source": [
    "### Reflecting on our Results\n",
    "\n",
    "If you're here, you've made it through the assignment! Congrats and good work! We've really pushed into some model complexity that (hopefully) has begun to hone your comfort with building out neural architectures. \n",
    "\n",
    "It's worth remarking on a question though: How'd we do on this task? How'd we do relative to what's previously been done? \n",
    "\n",
    "Well, the authors of the original paper report the following (using a feed-forward network): \n",
    "```\n",
    "P: 0.737 \n",
    "R: 0.710 \n",
    "F1: 0.723\n",
    "```\n",
    "\n",
    "This is a lot higher than what we've seen here, but there's a catch: The authors have done three critical things:\n",
    "* Used a variety of additional non-NLP features (which includes other structural, temporal, and past context-based features)\n",
    "* Heavily optimized and investigated good hyperparameters for their network\n",
    "* Use a scroll-back of the past 101 posts (as opposed to the past 20)\n",
    "\n",
    "Reviewing some of the features that the authors used, they feed their network:\n",
    "* Token overlap percentages between considered pairs of messages\n",
    "* An average of pre-trained GloVe vectors (which have been trained **much longer** and on a **far larger** corpus)\n",
    "* Information about directedness \n",
    "* Information about time \n",
    "* A past message history \n",
    "\n",
    "just to name a few features that seem particularly interesting. \n",
    "If you'd like to see what they've done and look at the architecture and features they've used, see their [GitHub repository](https://github.com/jkkummerfeld/irc-disentanglement/tree/master/src).\n",
    "In many ways, their approach is one where they give a model a set of hand-crafted, structured features which their model interprets. \n",
    "Our network is one that takes raw text-based features and attempts to learn an interpretation of them that is useful for conversational disentanglement.\n",
    "\n",
    "The take-away here should be this: There is a lot we could do to make a better model. We could train for longer. We could pre-train GloVe vectors for longer and on more data. And there are so many other non-NLP features that we could also have our model ingest and interpret, some that are non-linguistic yet highly salient for this difficult, social NLP task.\n",
    "That's before even considering all the hyperparameter tuning we could explore (learning rates, hidden dimensions, weight decay, layers, etc.).\n",
    "\n",
    "We also have far more data we could feed to our model, we could give a collection of past posts and we could try to use user information (maybe certain users only reply to other users and users don't reply to themselves?). \n",
    "And that doesn't even consider how we could re-sample our data by selecting different mechanisms for generating \"negative\" connections.\n",
    "\n",
    "There's a lot to be attempted beyond this and there are even-better architectures to be explored! \n",
    "Yet, hopefully, you feel as though you've taken a good, hard look at what can be achieved if we reduce our features to just the basic, raw lingustic ones and explore very simplistic neural architectures. \n",
    "Hopefully this makes you curious about what more could be done \n",
    "and how we could adjust what we've built here into something even more powerful and competitive.\n",
    "\n",
    "If you come up with a better model for this task, perhaps you could publish it!\n",
    "This is an open and hot research task, so novelty and breakthroughs are very interesting to the NLP-research community."
   ]
  },
  {
   "cell_type": "code",
   "execution_count": null,
   "metadata": {
    "id": "M8Uzg1mYBG1e"
   },
   "outputs": [],
   "source": []
  }
 ],
 "metadata": {
  "colab": {
   "collapsed_sections": [],
   "name": "A4-Module-A.ipynb",
   "provenance": [],
   "toc_visible": true
  },
  "kernelspec": {
   "display_name": "Python 3",
   "language": "python",
   "name": "python3"
  },
  "language_info": {
   "codemirror_mode": {
    "name": "ipython",
    "version": 3
   },
   "file_extension": ".py",
   "mimetype": "text/x-python",
   "name": "python",
   "nbconvert_exporter": "python",
   "pygments_lexer": "ipython3",
   "version": "3.8.5"
  }
 },
 "nbformat": 4,
 "nbformat_minor": 5
}
